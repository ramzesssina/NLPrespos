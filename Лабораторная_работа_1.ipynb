{
  "nbformat": 4,
  "nbformat_minor": 0,
  "metadata": {
    "colab": {
      "provenance": [],
      "gpuType": "T4",
      "authorship_tag": "ABX9TyPXBM7ndByhzSxXy33VRpd/",
      "include_colab_link": true
    },
    "kernelspec": {
      "name": "python3",
      "display_name": "Python 3"
    },
    "language_info": {
      "name": "python"
    },
    "accelerator": "GPU"
  },
  "cells": [
    {
      "cell_type": "markdown",
      "metadata": {
        "id": "view-in-github",
        "colab_type": "text"
      },
      "source": [
        "<a href=\"https://colab.research.google.com/github/ramzesssina/NLPrespos/blob/main/%D0%9B%D0%B0%D0%B1%D0%BE%D1%80%D0%B0%D1%82%D0%BE%D1%80%D0%BD%D0%B0%D1%8F_%D1%80%D0%B0%D0%B1%D0%BE%D1%82%D0%B0_1.ipynb\" target=\"_parent\"><img src=\"https://colab.research.google.com/assets/colab-badge.svg\" alt=\"Open In Colab\"/></a>"
      ]
    },
    {
      "cell_type": "markdown",
      "source": [
        "# **1 Домашнее задание**"
      ],
      "metadata": {
        "id": "NCujNKHui57u"
      }
    },
    {
      "cell_type": "markdown",
      "source": [
        "**Лемматизация**"
      ],
      "metadata": {
        "id": "ZeZw0lkji1W3"
      }
    },
    {
      "cell_type": "code",
      "execution_count": 25,
      "metadata": {
        "colab": {
          "base_uri": "https://localhost:8080/"
        },
        "id": "2bPo-3mZd1eC",
        "outputId": "5ccc5df0-37e3-43fe-af8c-e637c6f9fede"
      },
      "outputs": [
        {
          "output_type": "stream",
          "name": "stdout",
          "text": [
            "Requirement already satisfied: pymorphy2 in /usr/local/lib/python3.11/dist-packages (0.9.1)\n",
            "Requirement already satisfied: pymorphy3 in /usr/local/lib/python3.11/dist-packages (2.0.3)\n",
            "Requirement already satisfied: dawg-python>=0.7.1 in /usr/local/lib/python3.11/dist-packages (from pymorphy2) (0.7.2)\n",
            "Requirement already satisfied: pymorphy2-dicts-ru<3.0,>=2.4 in /usr/local/lib/python3.11/dist-packages (from pymorphy2) (2.4.417127.4579844)\n",
            "Requirement already satisfied: docopt>=0.6 in /usr/local/lib/python3.11/dist-packages (from pymorphy2) (0.6.2)\n",
            "Requirement already satisfied: dawg2-python>=0.8.0 in /usr/local/lib/python3.11/dist-packages (from pymorphy3) (0.9.0)\n",
            "Requirement already satisfied: pymorphy3-dicts-ru in /usr/local/lib/python3.11/dist-packages (from pymorphy3) (2.4.417150.4580142)\n"
          ]
        }
      ],
      "source": [
        "!pip install pymorphy2 pymorphy3"
      ]
    },
    {
      "cell_type": "code",
      "source": [
        "import pymorphy3\n",
        "from nltk.corpus import stopwords\n",
        "from nltk.stem.wordnet import WordNetLemmatizer\n",
        "from string import punctuation\n",
        "from nltk import SnowballStemmer\n",
        "import nltk\n",
        "import re\n",
        "from sklearn.feature_extraction.text import CountVectorizer"
      ],
      "metadata": {
        "id": "z0OoZqvbp5nZ"
      },
      "execution_count": 26,
      "outputs": []
    },
    {
      "cell_type": "code",
      "source": [
        "text = \"В 2022 году было круто! Я бы даже сказал cool. Этот год мне запомнился очень яркими воспоминаниями, Как мы пили beer на лавочке\"\n",
        "\n",
        "nltk.download('stopwords')\n",
        "russian_stopwords = stopwords.words(\"russian\")\n",
        "morph = pymorphy3.MorphAnalyzer()\n",
        "stemmer = SnowballStemmer('russian')"
      ],
      "metadata": {
        "colab": {
          "base_uri": "https://localhost:8080/"
        },
        "id": "NM095nOLqJuR",
        "outputId": "94f6ed9a-5452-4705-d5d6-a2d3f363fa6e"
      },
      "execution_count": 27,
      "outputs": [
        {
          "output_type": "stream",
          "name": "stderr",
          "text": [
            "[nltk_data] Downloading package stopwords to /root/nltk_data...\n",
            "[nltk_data]   Package stopwords is already up-to-date!\n"
          ]
        }
      ]
    },
    {
      "cell_type": "code",
      "source": [
        "def lemmatization(text):\n",
        "  words = text.lower().split()\n",
        "  lemmatized = []\n",
        "\n",
        "  stop_free = []\n",
        "  for word in words:\n",
        "    if word not in russian_stopwords:\n",
        "      stop_free.append(word)\n",
        "\n",
        "  punc_free = \"\"\n",
        "  for char in \" \".join(stop_free):\n",
        "    if char not in punctuation:\n",
        "      punc_free += char\n",
        "\n",
        "  for word in punc_free.split():\n",
        "    lemma = morph.parse(word)[0].normal_form\n",
        "    lemmatized.append(lemma)\n",
        "\n",
        "  return \" \".join(lemmatized)"
      ],
      "metadata": {
        "id": "j7XwDKafuagk"
      },
      "execution_count": 28,
      "outputs": []
    },
    {
      "cell_type": "markdown",
      "source": [
        "**Выводим нашу получившуюся Лемматизацию**"
      ],
      "metadata": {
        "id": "6Hq7oTJpxheG"
      }
    },
    {
      "cell_type": "code",
      "source": [
        "lemmat_otv = lemmatization(text)\n",
        "print(lemmat_otv)"
      ],
      "metadata": {
        "colab": {
          "base_uri": "https://localhost:8080/"
        },
        "id": "4P4pjrzZxN6P",
        "outputId": "ae758283-9bf1-4a20-c3e0-573881bae408"
      },
      "execution_count": 29,
      "outputs": [
        {
          "output_type": "stream",
          "name": "stdout",
          "text": [
            "2022 год круто сказать cool год запомниться очень яркий воспоминание пить beer лавочка\n"
          ]
        }
      ]
    },
    {
      "cell_type": "code",
      "source": [
        "def stemming(text):\n",
        "  words = text.lower().split()\n",
        "  stemmed_words = []\n",
        "\n",
        "  stop_free = []\n",
        "  for word in words:\n",
        "    if word not in russian_stopwords:\n",
        "      stop_free.append(word)\n",
        "\n",
        "  punc_free = \"\"\n",
        "  for char in \" \".join(stop_free):\n",
        "    if char not in punctuation:\n",
        "      punc_free += char\n",
        "\n",
        "  for word in punc_free.split():\n",
        "    stem = stemmer.stem(word)\n",
        "    stemmed_words.append(stem)\n",
        "\n",
        "  return \" \".join(stemmed_words)"
      ],
      "metadata": {
        "id": "1wIOK0rRzZq_"
      },
      "execution_count": 30,
      "outputs": []
    },
    {
      "cell_type": "markdown",
      "source": [
        "**Выводим стемминг**"
      ],
      "metadata": {
        "id": "5NJTjvwh07o8"
      }
    },
    {
      "cell_type": "code",
      "source": [
        "stemming_otv = stemming(text)\n",
        "print(stemming_otv)"
      ],
      "metadata": {
        "colab": {
          "base_uri": "https://localhost:8080/"
        },
        "id": "nx06NLQd0FDE",
        "outputId": "06b0a277-a647-4742-9ff9-b9b722b22712"
      },
      "execution_count": 31,
      "outputs": [
        {
          "output_type": "stream",
          "name": "stdout",
          "text": [
            "2022 год крут сказа cool год запомн очен ярк воспоминан пил beer лавочк\n"
          ]
        }
      ]
    },
    {
      "cell_type": "markdown",
      "source": [
        "# **Токенизация**"
      ],
      "metadata": {
        "id": "q9VQMU1kyjgo"
      }
    },
    {
      "cell_type": "code",
      "source": [
        "def tokin(text):\n",
        "  clear_sub = re.sub(r\"[^а-яА-ЯёЁ]\", \"\", text)\n",
        "  letters = list(clear_sub)\n",
        "\n",
        "  return letters"
      ],
      "metadata": {
        "id": "cGcYQO_E1Acl"
      },
      "execution_count": 32,
      "outputs": []
    },
    {
      "cell_type": "code",
      "source": [
        "tokinzed = tokin(text)\n",
        "print(tokinzed)"
      ],
      "metadata": {
        "colab": {
          "base_uri": "https://localhost:8080/"
        },
        "id": "0CqSIPZZoA5o",
        "outputId": "653d6fa7-183f-478e-fe8e-eb90d3d2dbfa"
      },
      "execution_count": 33,
      "outputs": [
        {
          "output_type": "stream",
          "name": "stdout",
          "text": [
            "['В', 'г', 'о', 'д', 'у', 'б', 'ы', 'л', 'о', 'к', 'р', 'у', 'т', 'о', 'Я', 'б', 'ы', 'д', 'а', 'ж', 'е', 'с', 'к', 'а', 'з', 'а', 'л', 'Э', 'т', 'о', 'т', 'г', 'о', 'д', 'м', 'н', 'е', 'з', 'а', 'п', 'о', 'м', 'н', 'и', 'л', 'с', 'я', 'о', 'ч', 'е', 'н', 'ь', 'я', 'р', 'к', 'и', 'м', 'и', 'в', 'о', 'с', 'п', 'о', 'м', 'и', 'н', 'а', 'н', 'и', 'я', 'м', 'и', 'К', 'а', 'к', 'м', 'ы', 'п', 'и', 'л', 'и', 'н', 'а', 'л', 'а', 'в', 'о', 'ч', 'к', 'е']\n"
          ]
        }
      ]
    },
    {
      "cell_type": "markdown",
      "source": [
        "**Векторизация**"
      ],
      "metadata": {
        "id": "xfNWd_NSq2V-"
      }
    },
    {
      "cell_type": "code",
      "source": [
        "def vectorize(tokens):\n",
        "  return {i + 1: char for i, char in enumerate(sorted(set(tokens)))}\n",
        "\n",
        "vectorized_text = vectorize(tokinzed)\n",
        "print(vectorized_text)"
      ],
      "metadata": {
        "colab": {
          "base_uri": "https://localhost:8080/"
        },
        "id": "Lki87_aPr8hk",
        "outputId": "29b4ad17-f21e-4f1a-9a6e-03a6791d3589"
      },
      "execution_count": 34,
      "outputs": [
        {
          "output_type": "stream",
          "name": "stdout",
          "text": [
            "{1: 'В', 2: 'К', 3: 'Э', 4: 'Я', 5: 'а', 6: 'б', 7: 'в', 8: 'г', 9: 'д', 10: 'е', 11: 'ж', 12: 'з', 13: 'и', 14: 'к', 15: 'л', 16: 'м', 17: 'н', 18: 'о', 19: 'п', 20: 'р', 21: 'с', 22: 'т', 23: 'у', 24: 'ч', 25: 'ы', 26: 'ь', 27: 'я'}\n"
          ]
        }
      ]
    },
    {
      "cell_type": "markdown",
      "source": [
        "# **Токенизация после лемминга**"
      ],
      "metadata": {
        "id": "eByn0k1BrPvb"
      }
    },
    {
      "cell_type": "code",
      "source": [
        "Tokin_for_lemma = tokin(lemmat_otv)\n",
        "print(Tokin_for_lemma[:20])"
      ],
      "metadata": {
        "colab": {
          "base_uri": "https://localhost:8080/"
        },
        "id": "krjP7cmgq9mc",
        "outputId": "e11c04bc-2b9c-4bcd-d313-9ee260f266c9"
      },
      "execution_count": 35,
      "outputs": [
        {
          "output_type": "stream",
          "name": "stdout",
          "text": [
            "['г', 'о', 'д', 'к', 'р', 'у', 'т', 'о', 'с', 'к', 'а', 'з', 'а', 'т', 'ь', 'г', 'о', 'д', 'з', 'а']\n"
          ]
        }
      ]
    },
    {
      "cell_type": "markdown",
      "source": [
        "# **Векторизация после лемминга**"
      ],
      "metadata": {
        "id": "NrSt-bpur93p"
      }
    },
    {
      "cell_type": "code",
      "source": [
        "vectorized_for_lem = vectorize(Tokin_for_lemma)\n",
        "print(vectorized_for_lem)"
      ],
      "metadata": {
        "colab": {
          "base_uri": "https://localhost:8080/"
        },
        "id": "hv43eI3VrYXA",
        "outputId": "80d58cb9-3f9d-48b8-f762-ab7deafa84a4"
      },
      "execution_count": 36,
      "outputs": [
        {
          "output_type": "stream",
          "name": "stdout",
          "text": [
            "{1: 'а', 2: 'в', 3: 'г', 4: 'д', 5: 'е', 6: 'з', 7: 'и', 8: 'й', 9: 'к', 10: 'л', 11: 'м', 12: 'н', 13: 'о', 14: 'п', 15: 'р', 16: 'с', 17: 'т', 18: 'у', 19: 'ч', 20: 'ь', 21: 'я'}\n"
          ]
        }
      ]
    },
    {
      "cell_type": "markdown",
      "source": [
        "# **Токенизация после стемминга**"
      ],
      "metadata": {
        "id": "Zxz40xTkswaR"
      }
    },
    {
      "cell_type": "code",
      "source": [
        "tokin_for_stemming = tokin(stemming_otv)\n",
        "print(tokin_for_stemming)"
      ],
      "metadata": {
        "colab": {
          "base_uri": "https://localhost:8080/"
        },
        "id": "GQfRck5FsBh1",
        "outputId": "c416c88a-3951-4946-aa86-be9ae2f174e5"
      },
      "execution_count": 37,
      "outputs": [
        {
          "output_type": "stream",
          "name": "stdout",
          "text": [
            "['г', 'о', 'д', 'к', 'р', 'у', 'т', 'с', 'к', 'а', 'з', 'а', 'г', 'о', 'д', 'з', 'а', 'п', 'о', 'м', 'н', 'о', 'ч', 'е', 'н', 'я', 'р', 'к', 'в', 'о', 'с', 'п', 'о', 'м', 'и', 'н', 'а', 'н', 'п', 'и', 'л', 'л', 'а', 'в', 'о', 'ч', 'к']\n"
          ]
        }
      ]
    },
    {
      "cell_type": "markdown",
      "source": [
        "# **Векторизация после стемминга**"
      ],
      "metadata": {
        "id": "wFV_fNL_szf_"
      }
    },
    {
      "cell_type": "code",
      "source": [
        "vectorized_for_stem = vectorize(tokin_for_stemming)\n",
        "print(vectorized_for_stem)"
      ],
      "metadata": {
        "colab": {
          "base_uri": "https://localhost:8080/"
        },
        "id": "HM5p3L-XsBt4",
        "outputId": "4cd68a68-40b1-425a-ea62-b395ac1ff587"
      },
      "execution_count": 38,
      "outputs": [
        {
          "output_type": "stream",
          "name": "stdout",
          "text": [
            "{1: 'а', 2: 'в', 3: 'г', 4: 'д', 5: 'е', 6: 'з', 7: 'и', 8: 'к', 9: 'л', 10: 'м', 11: 'н', 12: 'о', 13: 'п', 14: 'р', 15: 'с', 16: 'т', 17: 'у', 18: 'ч', 19: 'я'}\n"
          ]
        }
      ]
    }
  ]
}