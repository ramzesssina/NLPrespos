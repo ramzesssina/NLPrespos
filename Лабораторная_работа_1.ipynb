{
  "nbformat": 4,
  "nbformat_minor": 0,
  "metadata": {
    "colab": {
      "provenance": [],
      "gpuType": "T4",
      "authorship_tag": "ABX9TyN8QyvYbxJfKYO9njU1GLee",
      "include_colab_link": true
    },
    "kernelspec": {
      "name": "python3",
      "display_name": "Python 3"
    },
    "language_info": {
      "name": "python"
    },
    "accelerator": "GPU"
  },
  "cells": [
    {
      "cell_type": "markdown",
      "metadata": {
        "id": "view-in-github",
        "colab_type": "text"
      },
      "source": [
        "<a href=\"https://colab.research.google.com/github/ramzesssina/NLPrespos/blob/main/%D0%9B%D0%B0%D0%B1%D0%BE%D1%80%D0%B0%D1%82%D0%BE%D1%80%D0%BD%D0%B0%D1%8F_%D1%80%D0%B0%D0%B1%D0%BE%D1%82%D0%B0_1.ipynb\" target=\"_parent\"><img src=\"https://colab.research.google.com/assets/colab-badge.svg\" alt=\"Open In Colab\"/></a>"
      ]
    },
    {
      "cell_type": "markdown",
      "source": [
        "# **1 Домашнее задание**"
      ],
      "metadata": {
        "id": "NCujNKHui57u"
      }
    },
    {
      "cell_type": "markdown",
      "source": [
        "**Лемматизация**"
      ],
      "metadata": {
        "id": "ZeZw0lkji1W3"
      }
    },
    {
      "cell_type": "code",
      "execution_count": 1,
      "metadata": {
        "colab": {
          "base_uri": "https://localhost:8080/"
        },
        "id": "2bPo-3mZd1eC",
        "outputId": "40034a63-3ff2-441d-ed43-b33ed1a47e44"
      },
      "outputs": [
        {
          "output_type": "stream",
          "name": "stdout",
          "text": [
            "Collecting pymorphy2\n",
            "  Downloading pymorphy2-0.9.1-py3-none-any.whl.metadata (3.6 kB)\n",
            "Collecting pymorphy3\n",
            "  Downloading pymorphy3-2.0.3-py3-none-any.whl.metadata (1.9 kB)\n",
            "Collecting dawg-python>=0.7.1 (from pymorphy2)\n",
            "  Downloading DAWG_Python-0.7.2-py2.py3-none-any.whl.metadata (7.0 kB)\n",
            "Collecting pymorphy2-dicts-ru<3.0,>=2.4 (from pymorphy2)\n",
            "  Downloading pymorphy2_dicts_ru-2.4.417127.4579844-py2.py3-none-any.whl.metadata (2.1 kB)\n",
            "Collecting docopt>=0.6 (from pymorphy2)\n",
            "  Downloading docopt-0.6.2.tar.gz (25 kB)\n",
            "  Preparing metadata (setup.py) ... \u001b[?25l\u001b[?25hdone\n",
            "Collecting dawg2-python>=0.8.0 (from pymorphy3)\n",
            "  Downloading dawg2_python-0.9.0-py3-none-any.whl.metadata (7.5 kB)\n",
            "Collecting pymorphy3-dicts-ru (from pymorphy3)\n",
            "  Downloading pymorphy3_dicts_ru-2.4.417150.4580142-py2.py3-none-any.whl.metadata (2.0 kB)\n",
            "Downloading pymorphy2-0.9.1-py3-none-any.whl (55 kB)\n",
            "\u001b[2K   \u001b[90m━━━━━━━━━━━━━━━━━━━━━━━━━━━━━━━━━━━━━━━━\u001b[0m \u001b[32m55.5/55.5 kB\u001b[0m \u001b[31m3.5 MB/s\u001b[0m eta \u001b[36m0:00:00\u001b[0m\n",
            "\u001b[?25hDownloading pymorphy3-2.0.3-py3-none-any.whl (53 kB)\n",
            "\u001b[2K   \u001b[90m━━━━━━━━━━━━━━━━━━━━━━━━━━━━━━━━━━━━━━━━\u001b[0m \u001b[32m53.8/53.8 kB\u001b[0m \u001b[31m4.4 MB/s\u001b[0m eta \u001b[36m0:00:00\u001b[0m\n",
            "\u001b[?25hDownloading DAWG_Python-0.7.2-py2.py3-none-any.whl (11 kB)\n",
            "Downloading dawg2_python-0.9.0-py3-none-any.whl (9.3 kB)\n",
            "Downloading pymorphy2_dicts_ru-2.4.417127.4579844-py2.py3-none-any.whl (8.2 MB)\n",
            "\u001b[2K   \u001b[90m━━━━━━━━━━━━━━━━━━━━━━━━━━━━━━━━━━━━━━━━\u001b[0m \u001b[32m8.2/8.2 MB\u001b[0m \u001b[31m50.1 MB/s\u001b[0m eta \u001b[36m0:00:00\u001b[0m\n",
            "\u001b[?25hDownloading pymorphy3_dicts_ru-2.4.417150.4580142-py2.py3-none-any.whl (8.4 MB)\n",
            "\u001b[2K   \u001b[90m━━━━━━━━━━━━━━━━━━━━━━━━━━━━━━━━━━━━━━━━\u001b[0m \u001b[32m8.4/8.4 MB\u001b[0m \u001b[31m81.6 MB/s\u001b[0m eta \u001b[36m0:00:00\u001b[0m\n",
            "\u001b[?25hBuilding wheels for collected packages: docopt\n",
            "  Building wheel for docopt (setup.py) ... \u001b[?25l\u001b[?25hdone\n",
            "  Created wheel for docopt: filename=docopt-0.6.2-py2.py3-none-any.whl size=13706 sha256=4798aac4473332b35b11ac034a6ef08b607aa9c1a109287907652c71ad2c5401\n",
            "  Stored in directory: /root/.cache/pip/wheels/1a/b0/8c/4b75c4116c31f83c8f9f047231251e13cc74481cca4a78a9ce\n",
            "Successfully built docopt\n",
            "Installing collected packages: pymorphy3-dicts-ru, pymorphy2-dicts-ru, docopt, dawg-python, pymorphy2, dawg2-python, pymorphy3\n",
            "Successfully installed dawg-python-0.7.2 dawg2-python-0.9.0 docopt-0.6.2 pymorphy2-0.9.1 pymorphy2-dicts-ru-2.4.417127.4579844 pymorphy3-2.0.3 pymorphy3-dicts-ru-2.4.417150.4580142\n"
          ]
        }
      ],
      "source": [
        "!pip install pymorphy2 pymorphy3"
      ]
    },
    {
      "cell_type": "code",
      "source": [
        "import pymorphy3\n",
        "from nltk.corpus import stopwords\n",
        "from nltk.stem.wordnet import WordNetLemmatizer\n",
        "from string import punctuation\n",
        "from nltk import SnowballStemmer\n",
        "import nltk\n",
        "import re\n",
        "from sklearn.feature_extraction.text import CountVectorizer"
      ],
      "metadata": {
        "id": "z0OoZqvbp5nZ"
      },
      "execution_count": 2,
      "outputs": []
    },
    {
      "cell_type": "code",
      "source": [
        "text = \"В 2022 году было круто! Я бы даже сказал cool. Этот год мне запомнился очень яркими воспоминаниями, Как мы пили beer на лавочке\"\n",
        "\n",
        "nltk.download('stopwords')\n",
        "russian_stopwords = stopwords.words(\"russian\")\n",
        "morph = pymorphy3.MorphAnalyzer()\n",
        "stemmer = SnowballStemmer('russian')"
      ],
      "metadata": {
        "colab": {
          "base_uri": "https://localhost:8080/"
        },
        "id": "NM095nOLqJuR",
        "outputId": "700b1c3f-340e-4984-cf00-3a6126f3815b"
      },
      "execution_count": 3,
      "outputs": [
        {
          "output_type": "stream",
          "name": "stderr",
          "text": [
            "[nltk_data] Downloading package stopwords to /root/nltk_data...\n",
            "[nltk_data]   Unzipping corpora/stopwords.zip.\n"
          ]
        }
      ]
    },
    {
      "cell_type": "code",
      "source": [
        "def lemmatization(text):\n",
        "  words = text.lower().split()\n",
        "  lemmatized = []\n",
        "\n",
        "  stop_free = []\n",
        "  for word in words:\n",
        "    if word not in russian_stopwords:\n",
        "      stop_free.append(word)\n",
        "\n",
        "  punc_free = \"\"\n",
        "  for char in \" \".join(stop_free):\n",
        "    if char not in punctuation:\n",
        "      punc_free += char\n",
        "\n",
        "  for word in punc_free.split():\n",
        "    lemma = morph.parse(word)[0].normal_form\n",
        "    lemmatized.append(lemma)\n",
        "\n",
        "  return \" \".join(lemmatized)"
      ],
      "metadata": {
        "id": "j7XwDKafuagk"
      },
      "execution_count": 4,
      "outputs": []
    },
    {
      "cell_type": "markdown",
      "source": [
        "**Выводим нашу получившуюся Лемматизацию**"
      ],
      "metadata": {
        "id": "6Hq7oTJpxheG"
      }
    },
    {
      "cell_type": "code",
      "source": [
        "lemmat_otv = lemmatization(text)\n",
        "print(lemmat_otv)"
      ],
      "metadata": {
        "colab": {
          "base_uri": "https://localhost:8080/"
        },
        "id": "4P4pjrzZxN6P",
        "outputId": "d75d667b-64c8-4de6-e9b9-ba65de2ac577"
      },
      "execution_count": 27,
      "outputs": [
        {
          "output_type": "stream",
          "name": "stdout",
          "text": [
            "2022 год круто сказать cool год запомниться очень яркий воспоминание пить beer лавочка\n"
          ]
        }
      ]
    },
    {
      "cell_type": "code",
      "source": [
        "def stemming(text):\n",
        "  words = text.lower().split()\n",
        "  stemmed_words = []\n",
        "\n",
        "  stop_free = []\n",
        "  for word in words:\n",
        "    if word not in russian_stopwords:\n",
        "      stop_free.append(word)\n",
        "\n",
        "  punc_free = \"\"\n",
        "  for char in \" \".join(stop_free):\n",
        "    if char not in punctuation:\n",
        "      punc_free += char\n",
        "\n",
        "  for word in punc_free.split():\n",
        "    stem = stemmer.stem(word)\n",
        "    stemmed_words.append(stem)\n",
        "\n",
        "  return \" \".join(stemmed_words)"
      ],
      "metadata": {
        "id": "1wIOK0rRzZq_"
      },
      "execution_count": 6,
      "outputs": []
    },
    {
      "cell_type": "markdown",
      "source": [
        "**Выводим стемминг**"
      ],
      "metadata": {
        "id": "5NJTjvwh07o8"
      }
    },
    {
      "cell_type": "code",
      "source": [
        "stemming_otv = stemming(text)\n",
        "print(stemming_otv)"
      ],
      "metadata": {
        "colab": {
          "base_uri": "https://localhost:8080/"
        },
        "id": "nx06NLQd0FDE",
        "outputId": "bbd5f428-6fa8-4b39-d863-4cb188aa46ec"
      },
      "execution_count": 17,
      "outputs": [
        {
          "output_type": "stream",
          "name": "stdout",
          "text": [
            "2022 год крут сказа cool год запомн очен ярк воспоминан пил beer лавочк\n"
          ]
        }
      ]
    },
    {
      "cell_type": "markdown",
      "source": [
        "# **Токенизация**"
      ],
      "metadata": {
        "id": "q9VQMU1kyjgo"
      }
    },
    {
      "cell_type": "code",
      "source": [
        "def tokin(text):\n",
        "  clear_sub = re.sub(r\"[^а-яА-ЯёЁ]\", \"\", text)\n",
        "  letters = list(clear_sub)\n",
        "\n",
        "  return letters"
      ],
      "metadata": {
        "id": "cGcYQO_E1Acl"
      },
      "execution_count": 14,
      "outputs": []
    },
    {
      "cell_type": "code",
      "source": [
        "tokinzed = tokin(text)\n",
        "print(tokinzed[:9])"
      ],
      "metadata": {
        "colab": {
          "base_uri": "https://localhost:8080/"
        },
        "id": "0CqSIPZZoA5o",
        "outputId": "2e92516d-b297-425a-984e-f0192c54f81f"
      },
      "execution_count": 15,
      "outputs": [
        {
          "output_type": "stream",
          "name": "stdout",
          "text": [
            "['В', 'г', 'о', 'д', 'у', 'б', 'ы', 'л', 'о']\n"
          ]
        }
      ]
    },
    {
      "cell_type": "markdown",
      "source": [
        "**Векторизация**"
      ],
      "metadata": {
        "id": "xfNWd_NSq2V-"
      }
    },
    {
      "cell_type": "code",
      "source": [
        "def vectorize(tokens):\n",
        "  return {i + 1: char for i, char in enumerate(tokens)}\n",
        "\n",
        "vectorized_text = vectorize(tokinzed)\n",
        "print(vectorized_text)"
      ],
      "metadata": {
        "colab": {
          "base_uri": "https://localhost:8080/"
        },
        "id": "Lki87_aPr8hk",
        "outputId": "06b252ac-342c-4901-c1e8-4e3e4551377d"
      },
      "execution_count": 25,
      "outputs": [
        {
          "output_type": "stream",
          "name": "stdout",
          "text": [
            "{1: 'В', 2: 'г', 3: 'о', 4: 'д', 5: 'у', 6: 'б', 7: 'ы', 8: 'л', 9: 'о', 10: 'к', 11: 'р', 12: 'у', 13: 'т', 14: 'о', 15: 'Я', 16: 'б', 17: 'ы', 18: 'д', 19: 'а', 20: 'ж', 21: 'е', 22: 'с', 23: 'к', 24: 'а', 25: 'з', 26: 'а', 27: 'л', 28: 'Э', 29: 'т', 30: 'о', 31: 'т', 32: 'г', 33: 'о', 34: 'д', 35: 'м', 36: 'н', 37: 'е', 38: 'з', 39: 'а', 40: 'п', 41: 'о', 42: 'м', 43: 'н', 44: 'и', 45: 'л', 46: 'с', 47: 'я', 48: 'о', 49: 'ч', 50: 'е', 51: 'н', 52: 'ь', 53: 'я', 54: 'р', 55: 'к', 56: 'и', 57: 'м', 58: 'и', 59: 'в', 60: 'о', 61: 'с', 62: 'п', 63: 'о', 64: 'м', 65: 'и', 66: 'н', 67: 'а', 68: 'н', 69: 'и', 70: 'я', 71: 'м', 72: 'и', 73: 'К', 74: 'а', 75: 'к', 76: 'м', 77: 'ы', 78: 'п', 79: 'и', 80: 'л', 81: 'и', 82: 'н', 83: 'а', 84: 'л', 85: 'а', 86: 'в', 87: 'о', 88: 'ч', 89: 'к', 90: 'е'}\n"
          ]
        }
      ]
    },
    {
      "cell_type": "markdown",
      "source": [
        "# **Токенизация после лемминга**"
      ],
      "metadata": {
        "id": "eByn0k1BrPvb"
      }
    },
    {
      "cell_type": "code",
      "source": [
        "Tokin_for_lemma = tokin(lemmat_otv)\n",
        "print(Tokin_for_lemma[:20])"
      ],
      "metadata": {
        "colab": {
          "base_uri": "https://localhost:8080/"
        },
        "id": "krjP7cmgq9mc",
        "outputId": "ad5a5856-8e7c-414c-c4d8-5ab1d12558ae"
      },
      "execution_count": 32,
      "outputs": [
        {
          "output_type": "stream",
          "name": "stdout",
          "text": [
            "['г', 'о', 'д', 'к', 'р', 'у', 'т', 'о', 'с', 'к', 'а', 'з', 'а', 'т', 'ь', 'г', 'о', 'д', 'з', 'а']\n"
          ]
        }
      ]
    },
    {
      "cell_type": "markdown",
      "source": [
        "# **Векторизация после лемминга**"
      ],
      "metadata": {
        "id": "NrSt-bpur93p"
      }
    },
    {
      "cell_type": "code",
      "source": [
        "vectorized_for_lem = vectorize(Tokin_for_lemma)\n",
        "print(vectorized_for_lem)"
      ],
      "metadata": {
        "colab": {
          "base_uri": "https://localhost:8080/"
        },
        "id": "hv43eI3VrYXA",
        "outputId": "908029ca-6659-4ddf-dcbe-415c8e7eb12e"
      },
      "execution_count": 36,
      "outputs": [
        {
          "output_type": "stream",
          "name": "stdout",
          "text": [
            "{1: 'г', 2: 'о', 3: 'д', 4: 'к', 5: 'р', 6: 'у', 7: 'т', 8: 'о', 9: 'с', 10: 'к', 11: 'а', 12: 'з', 13: 'а', 14: 'т', 15: 'ь', 16: 'г', 17: 'о', 18: 'д', 19: 'з', 20: 'а', 21: 'п', 22: 'о', 23: 'м', 24: 'н', 25: 'и', 26: 'т', 27: 'ь', 28: 'с', 29: 'я', 30: 'о', 31: 'ч', 32: 'е', 33: 'н', 34: 'ь', 35: 'я', 36: 'р', 37: 'к', 38: 'и', 39: 'й', 40: 'в', 41: 'о', 42: 'с', 43: 'п', 44: 'о', 45: 'м', 46: 'и', 47: 'н', 48: 'а', 49: 'н', 50: 'и', 51: 'е', 52: 'п', 53: 'и', 54: 'т', 55: 'ь', 56: 'л', 57: 'а', 58: 'в', 59: 'о', 60: 'ч', 61: 'к', 62: 'а'}\n"
          ]
        }
      ]
    },
    {
      "cell_type": "markdown",
      "source": [
        "# **Токенизация после стемминга**"
      ],
      "metadata": {
        "id": "Zxz40xTkswaR"
      }
    },
    {
      "cell_type": "code",
      "source": [
        "tokin_for_stemming = tokin(stemming_otv)\n",
        "print(tokin_for_stemming)"
      ],
      "metadata": {
        "colab": {
          "base_uri": "https://localhost:8080/"
        },
        "id": "GQfRck5FsBh1",
        "outputId": "33e6511e-f957-4661-a492-f3c0783cde76"
      },
      "execution_count": 37,
      "outputs": [
        {
          "output_type": "stream",
          "name": "stdout",
          "text": [
            "['г', 'о', 'д', 'к', 'р', 'у', 'т', 'с', 'к', 'а', 'з', 'а', 'г', 'о', 'д', 'з', 'а', 'п', 'о', 'м', 'н', 'о', 'ч', 'е', 'н', 'я', 'р', 'к', 'в', 'о', 'с', 'п', 'о', 'м', 'и', 'н', 'а', 'н', 'п', 'и', 'л', 'л', 'а', 'в', 'о', 'ч', 'к']\n"
          ]
        }
      ]
    },
    {
      "cell_type": "markdown",
      "source": [
        "# **Векторизация после стемминга**"
      ],
      "metadata": {
        "id": "wFV_fNL_szf_"
      }
    },
    {
      "cell_type": "code",
      "source": [
        "vectorized_for_stem = vectorize(tokin_for_stemming)\n",
        "print(vectorized_for_stem)"
      ],
      "metadata": {
        "colab": {
          "base_uri": "https://localhost:8080/"
        },
        "id": "HM5p3L-XsBt4",
        "outputId": "0a1710dd-bdd5-4c9e-e70b-67960b9d8c69"
      },
      "execution_count": 38,
      "outputs": [
        {
          "output_type": "stream",
          "name": "stdout",
          "text": [
            "{1: 'г', 2: 'о', 3: 'д', 4: 'к', 5: 'р', 6: 'у', 7: 'т', 8: 'с', 9: 'к', 10: 'а', 11: 'з', 12: 'а', 13: 'г', 14: 'о', 15: 'д', 16: 'з', 17: 'а', 18: 'п', 19: 'о', 20: 'м', 21: 'н', 22: 'о', 23: 'ч', 24: 'е', 25: 'н', 26: 'я', 27: 'р', 28: 'к', 29: 'в', 30: 'о', 31: 'с', 32: 'п', 33: 'о', 34: 'м', 35: 'и', 36: 'н', 37: 'а', 38: 'н', 39: 'п', 40: 'и', 41: 'л', 42: 'л', 43: 'а', 44: 'в', 45: 'о', 46: 'ч', 47: 'к'}\n"
          ]
        }
      ]
    }
  ]
}