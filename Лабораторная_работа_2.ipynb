{
  "nbformat": 4,
  "nbformat_minor": 0,
  "metadata": {
    "colab": {
      "provenance": [],
      "gpuType": "T4",
      "authorship_tag": "ABX9TyMkrdhE3pyWFfDp/bXlJbSI",
      "include_colab_link": true
    },
    "kernelspec": {
      "name": "python3",
      "display_name": "Python 3"
    },
    "language_info": {
      "name": "python"
    },
    "accelerator": "GPU"
  },
  "cells": [
    {
      "cell_type": "markdown",
      "metadata": {
        "id": "view-in-github",
        "colab_type": "text"
      },
      "source": [
        "<a href=\"https://colab.research.google.com/github/ramzesssina/NLPrespos/blob/main/%D0%9B%D0%B0%D0%B1%D0%BE%D1%80%D0%B0%D1%82%D0%BE%D1%80%D0%BD%D0%B0%D1%8F_%D1%80%D0%B0%D0%B1%D0%BE%D1%82%D0%B0_2.ipynb\" target=\"_parent\"><img src=\"https://colab.research.google.com/assets/colab-badge.svg\" alt=\"Open In Colab\"/></a>"
      ]
    },
    {
      "cell_type": "markdown",
      "source": [
        "# **Домашнее задание 2**"
      ],
      "metadata": {
        "id": "NgoRTVvXvBPX"
      }
    },
    {
      "cell_type": "code",
      "execution_count": 61,
      "metadata": {
        "colab": {
          "base_uri": "https://localhost:8080/"
        },
        "id": "yRNmuKbNu7fX",
        "outputId": "df3ed9d1-33ed-4e27-966f-d2332b89293d"
      },
      "outputs": [
        {
          "output_type": "stream",
          "name": "stdout",
          "text": [
            "Requirement already satisfied: pymorphy3 in /usr/local/lib/python3.11/dist-packages (2.0.3)\n",
            "Requirement already satisfied: dawg2-python>=0.8.0 in /usr/local/lib/python3.11/dist-packages (from pymorphy3) (0.9.0)\n",
            "Requirement already satisfied: pymorphy3-dicts-ru in /usr/local/lib/python3.11/dist-packages (from pymorphy3) (2.4.417150.4580142)\n"
          ]
        }
      ],
      "source": [
        "!pip install pymorphy3"
      ]
    },
    {
      "cell_type": "code",
      "source": [
        "import pymorphy3\n",
        "import nltk\n",
        "from string import punctuation\n",
        "import re\n",
        "from sklearn.feature_extraction.text import CountVectorizer\n",
        "import numpy as np\n",
        "from nltk.corpus import stopwords\n",
        "from nltk import SnowballStemmer\n",
        "from math import log"
      ],
      "metadata": {
        "id": "nZXx0H25_kcl"
      },
      "execution_count": 62,
      "outputs": []
    },
    {
      "cell_type": "code",
      "source": [
        "texts = ['Лес шумел, лес тянулся вдаль,',\n",
        "         'В лесу было темно, темно и тихо.',\n",
        "         'В тени деревьев прятался лес,',\n",
        "         'Туда, где лес, где свет, где тень.',\n",
        "         'Лес скрывал всё, лес был всесилен.'\n",
        "         ]"
      ],
      "metadata": {
        "id": "gO-UU_ru_mkp"
      },
      "execution_count": 63,
      "outputs": []
    },
    {
      "cell_type": "code",
      "source": [
        "nltk.download('stopwords')\n",
        "\n",
        "russian_stopwords = stopwords.words(\"russian\")\n",
        "morph = pymorphy3.MorphAnalyzer()\n",
        "stemmer = SnowballStemmer('russian')"
      ],
      "metadata": {
        "colab": {
          "base_uri": "https://localhost:8080/"
        },
        "id": "rOREDBcvAgVu",
        "outputId": "e25d4cd5-2e73-4365-909c-44a467f894c9"
      },
      "execution_count": 64,
      "outputs": [
        {
          "output_type": "stream",
          "name": "stderr",
          "text": [
            "[nltk_data] Downloading package stopwords to /root/nltk_data...\n",
            "[nltk_data]   Package stopwords is already up-to-date!\n"
          ]
        }
      ]
    },
    {
      "cell_type": "markdown",
      "source": [
        "# **Изменили текст применив лемматизацию**"
      ],
      "metadata": {
        "id": "3vPyao6pTfsm"
      }
    },
    {
      "cell_type": "code",
      "source": [
        "def change_text(texts):\n",
        "    words = texts.lower().split()\n",
        "    lemmatized = []\n",
        "\n",
        "    stop_free = []\n",
        "    for word in words:\n",
        "      if word not in russian_stopwords:\n",
        "        stop_free.append(word)\n",
        "\n",
        "    punc_free = \"\"\n",
        "    for char in \" \".join(stop_free):\n",
        "      if char not in punctuation:\n",
        "        punc_free += char\n",
        "\n",
        "    for word in punc_free.split():\n",
        "        lemma = morph.parse(word)[0].normal_form\n",
        "        lemmatized.append(lemma)\n",
        "\n",
        "    return \" \".join(lemmatized)"
      ],
      "metadata": {
        "id": "3xaVwdrQKsb6"
      },
      "execution_count": 65,
      "outputs": []
    },
    {
      "cell_type": "code",
      "source": [
        "change_text = [change_text(text) for text in texts]\n",
        "print(change_text)"
      ],
      "metadata": {
        "colab": {
          "base_uri": "https://localhost:8080/"
        },
        "id": "w5AKm1HlNmWO",
        "outputId": "a763ded2-76f9-40fd-f15b-98fd1d041830"
      },
      "execution_count": 66,
      "outputs": [
        {
          "output_type": "stream",
          "name": "stdout",
          "text": [
            "['лес шуметь лес тянуться вдаль', 'лес темно темно тихо', 'тень дерево прятаться лес', 'туда лес свет тень', 'лес скрывать всё лес всесильный']\n"
          ]
        }
      ]
    },
    {
      "cell_type": "markdown",
      "source": [
        "# **Применил Токенизацию**"
      ],
      "metadata": {
        "id": "qc8YBCcTTlNj"
      }
    },
    {
      "cell_type": "code",
      "source": [
        "def tokin(text):\n",
        "    clear_sub = re.sub(r\"[^а-яА-ЯёЁ\\s]\", \"\", text)\n",
        "    words = clear_sub.split()\n",
        "    return words"
      ],
      "metadata": {
        "id": "4M1GYUeMPACl"
      },
      "execution_count": 67,
      "outputs": []
    },
    {
      "cell_type": "code",
      "source": [
        "Tokin_for_lemma = [tokin(text) for text in change_text]\n",
        "print(Tokin_for_lemma)"
      ],
      "metadata": {
        "colab": {
          "base_uri": "https://localhost:8080/"
        },
        "id": "mVCv9n91PXr7",
        "outputId": "02419a48-5c79-448d-ab0f-ff02c829ed80"
      },
      "execution_count": 68,
      "outputs": [
        {
          "output_type": "stream",
          "name": "stdout",
          "text": [
            "[['лес', 'шуметь', 'лес', 'тянуться', 'вдаль'], ['лес', 'темно', 'темно', 'тихо'], ['тень', 'дерево', 'прятаться', 'лес'], ['туда', 'лес', 'свет', 'тень'], ['лес', 'скрывать', 'всё', 'лес', 'всесильный']]\n"
          ]
        }
      ]
    },
    {
      "cell_type": "markdown",
      "source": [
        "# **Bag Of Words**"
      ],
      "metadata": {
        "id": "7M5Rkm_VXINw"
      }
    },
    {
      "cell_type": "code",
      "source": [
        "unique_words = []\n",
        "for sublist in Tokin_for_lemma:\n",
        "  for text in sublist:\n",
        "    if text not in unique_words:\n",
        "      unique_words.append(text)\n",
        "unique_words = sorted(unique_words)\n",
        "print(unique_words)"
      ],
      "metadata": {
        "colab": {
          "base_uri": "https://localhost:8080/"
        },
        "id": "7ecKUQETTWcU",
        "outputId": "bc22d2cc-2bad-4f7f-e4c7-08251de0f2b1"
      },
      "execution_count": 69,
      "outputs": [
        {
          "output_type": "stream",
          "name": "stdout",
          "text": [
            "['вдаль', 'всесильный', 'всё', 'дерево', 'лес', 'прятаться', 'свет', 'скрывать', 'темно', 'тень', 'тихо', 'туда', 'тянуться', 'шуметь']\n"
          ]
        }
      ]
    },
    {
      "cell_type": "code",
      "source": [
        "def bag_of_words(Tokin_for_lemma, unique_words):\n",
        "    matrix = []\n",
        "    for sublist in Tokin_for_lemma:\n",
        "        vector = [sublist.count(word) for word in unique_words]\n",
        "        matrix.append(vector)\n",
        "    return np.array(matrix)\n",
        "\n",
        "bow_matrix = bag_of_words(Tokin_for_lemma, unique_words)\n",
        "print(unique_words)\n",
        "bow_matrix"
      ],
      "metadata": {
        "colab": {
          "base_uri": "https://localhost:8080/"
        },
        "id": "v7xZC_5JXAMX",
        "outputId": "242c323b-e377-4e46-d9b6-6b91910e3ccc"
      },
      "execution_count": 70,
      "outputs": [
        {
          "output_type": "stream",
          "name": "stdout",
          "text": [
            "['вдаль', 'всесильный', 'всё', 'дерево', 'лес', 'прятаться', 'свет', 'скрывать', 'темно', 'тень', 'тихо', 'туда', 'тянуться', 'шуметь']\n"
          ]
        },
        {
          "output_type": "execute_result",
          "data": {
            "text/plain": [
              "array([[1, 0, 0, 0, 2, 0, 0, 0, 0, 0, 0, 0, 1, 1],\n",
              "       [0, 0, 0, 0, 1, 0, 0, 0, 2, 0, 1, 0, 0, 0],\n",
              "       [0, 0, 0, 1, 1, 1, 0, 0, 0, 1, 0, 0, 0, 0],\n",
              "       [0, 0, 0, 0, 1, 0, 1, 0, 0, 1, 0, 1, 0, 0],\n",
              "       [0, 1, 1, 0, 2, 0, 0, 1, 0, 0, 0, 0, 0, 0]])"
            ]
          },
          "metadata": {},
          "execution_count": 70
        }
      ]
    },
    {
      "cell_type": "markdown",
      "source": [
        "# **TF-IDF**"
      ],
      "metadata": {
        "id": "rQthU6KfWVyU"
      }
    },
    {
      "cell_type": "code",
      "source": [
        "def manual_tfidf(bow_matrix):\n",
        "    tf = bow_matrix / bow_matrix.sum(axis=1, keepdims=True)\n",
        "\n",
        "    idf = np.array([log(len(bow_matrix) / (1 + np.count_nonzero(bow_matrix[:, i]))) for i in range(bow_matrix.shape[1])])\n",
        "\n",
        "    tfidf = tf * idf\n",
        "    return tfidf\n",
        "\n",
        "tfidf_matrix = manual_tfidf(bow_matrix)\n",
        "print(unique_words)\n",
        "print(\"Матрица TF-IDF:\")\n",
        "print(tfidf_matrix)"
      ],
      "metadata": {
        "colab": {
          "base_uri": "https://localhost:8080/"
        },
        "id": "QPADr-iVV0FU",
        "outputId": "07e9c06e-8550-46ff-bbb3-b8f74c7e8617"
      },
      "execution_count": 71,
      "outputs": [
        {
          "output_type": "stream",
          "name": "stdout",
          "text": [
            "['вдаль', 'всесильный', 'всё', 'дерево', 'лес', 'прятаться', 'свет', 'скрывать', 'темно', 'тень', 'тихо', 'туда', 'тянуться', 'шуметь']\n",
            "Матрица TF-IDF:\n",
            "[[ 0.18325815  0.          0.          0.         -0.07292862  0.\n",
            "   0.          0.          0.          0.          0.          0.\n",
            "   0.18325815  0.18325815]\n",
            " [ 0.          0.          0.          0.         -0.04558039  0.\n",
            "   0.          0.          0.45814537  0.          0.22907268  0.\n",
            "   0.          0.        ]\n",
            " [ 0.          0.          0.          0.22907268 -0.04558039  0.22907268\n",
            "   0.          0.          0.          0.12770641  0.          0.\n",
            "   0.          0.        ]\n",
            " [ 0.          0.          0.          0.         -0.04558039  0.\n",
            "   0.22907268  0.          0.          0.12770641  0.          0.22907268\n",
            "   0.          0.        ]\n",
            " [ 0.          0.18325815  0.18325815  0.         -0.07292862  0.\n",
            "   0.          0.18325815  0.          0.          0.          0.\n",
            "   0.          0.        ]]\n"
          ]
        }
      ]
    }
  ]
}