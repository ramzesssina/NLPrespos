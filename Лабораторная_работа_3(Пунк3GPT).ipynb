{
  "nbformat": 4,
  "nbformat_minor": 0,
  "metadata": {
    "colab": {
      "provenance": [],
      "authorship_tag": "ABX9TyOCyjhW6uSoew4glC0X/hXX",
      "include_colab_link": true
    },
    "kernelspec": {
      "name": "python3",
      "display_name": "Python 3"
    },
    "language_info": {
      "name": "python"
    }
  },
  "cells": [
    {
      "cell_type": "markdown",
      "metadata": {
        "id": "view-in-github",
        "colab_type": "text"
      },
      "source": [
        "<a href=\"https://colab.research.google.com/github/ramzesssina/NLPrespos/blob/main/%D0%9B%D0%B0%D0%B1%D0%BE%D1%80%D0%B0%D1%82%D0%BE%D1%80%D0%BD%D0%B0%D1%8F_%D1%80%D0%B0%D0%B1%D0%BE%D1%82%D0%B0_3(%D0%9F%D1%83%D0%BD%D0%BA3GPT).ipynb\" target=\"_parent\"><img src=\"https://colab.research.google.com/assets/colab-badge.svg\" alt=\"Open In Colab\"/></a>"
      ]
    },
    {
      "cell_type": "markdown",
      "source": [
        "# **Пункт 3 - Создание GPT**"
      ],
      "metadata": {
        "id": "6khsjHWJCG_f"
      }
    },
    {
      "cell_type": "code",
      "execution_count": 112,
      "metadata": {
        "id": "9mArDtGcvXXR"
      },
      "outputs": [],
      "source": [
        "import numpy as np"
      ]
    },
    {
      "cell_type": "code",
      "source": [
        "def sigmoid(x):\n",
        "    x = np.clip(x, -500, 500)\n",
        "    return 1 / (1 + np.exp(-x))\n",
        "\n",
        "def deriv_sigmoid(x):\n",
        "    fx = sigmoid(x)\n",
        "    return fx * (1 - fx)"
      ],
      "metadata": {
        "id": "afNNFYKIv7VO"
      },
      "execution_count": 113,
      "outputs": []
    },
    {
      "cell_type": "code",
      "source": [
        "class Neuron:\n",
        "    def __init__(self, input_size):\n",
        "        self.w = np.random.randn(input_size) * 0.1\n",
        "        self.b = 0.0\n",
        "\n",
        "    def feedforward(self, x):\n",
        "        self.last_x = x\n",
        "        self.last_total = np.dot(x, self.w) + self.b\n",
        "        return sigmoid(self.last_total)\n",
        "\n",
        "    def train(self, grad_output, lr=0.01):\n",
        "        grad_total = deriv_sigmoid(self.last_total) * grad_output\n",
        "        self.w -= lr * grad_total * self.last_x\n",
        "        self.b -= lr * grad_total"
      ],
      "metadata": {
        "id": "ZpEBSt5Ow537"
      },
      "execution_count": 114,
      "outputs": []
    },
    {
      "cell_type": "code",
      "source": [
        "class Head:\n",
        "    def __init__(self, vocab_size, embed_dim, hidden_dim, lr=0.01):\n",
        "        self.embed_dim = embed_dim\n",
        "        self.hidden_dim = hidden_dim\n",
        "        self.vocab_size = vocab_size\n",
        "        self.lr = lr\n",
        "\n",
        "        self.W_k = np.random.randn(embed_dim, hidden_dim) * 0.1\n",
        "        self.W_q = np.random.randn(embed_dim, hidden_dim) * 0.1\n",
        "        self.W_v = np.random.randn(embed_dim, hidden_dim) * 0.1\n",
        "\n",
        "        # Линейный слой для предсказания\n",
        "        self.W_out = np.random.randn(hidden_dim, 1) * 0.1\n",
        "        self.b_out = np.zeros((1,))\n",
        "\n",
        "    @staticmethod\n",
        "    def softmax(x):\n",
        "        exp_x = np.exp(x - np.max(x, axis=-1, keepdims=True))\n",
        "        return exp_x / np.sum(exp_x, axis=-1, keepdims=True)\n",
        "\n",
        "    def forward(self, x):\n",
        "        self.x = x\n",
        "        B, T, C = x.shape\n",
        "\n",
        "        self.k = x @ self.W_k\n",
        "        self.q = x @ self.W_q\n",
        "        self.v = x @ self.W_v\n",
        "\n",
        "        self.wei = np.matmul(self.q, self.k.transpose(0, 2, 1)) / np.sqrt(self.hidden_dim)\n",
        "        mask = np.tril(np.ones((T, T)))\n",
        "        self.wei = np.where(mask == 1, self.wei, -1e9)\n",
        "        self.wei_softmax = self.softmax(self.wei)\n",
        "        self.out = np.matmul(self.wei_softmax, self.v)  # (B, T, hidden_dim)\n",
        "\n",
        "        # Предсказания\n",
        "        self.pred = sigmoid(np.matmul(self.out, self.W_out) + self.b_out)  # (B, T, 1)\n",
        "        return self.pred\n",
        "\n",
        "    def train(self, dataset, epochs=1000):\n",
        "        input_data = np.array([item[0] for item in dataset])\n",
        "        target = np.array([item[1] for item in dataset])\n",
        "\n",
        "        for epoch in range(epochs):\n",
        "            pred = self.forward(input_data)\n",
        "\n",
        "            # Loss: MSE\n",
        "            loss = np.mean((pred - target) ** 2)\n",
        "\n",
        "            # Градиенты для выходного слоя\n",
        "            grad_pred = 2 * (pred - target) * deriv_sigmoid(pred)  # (B, T, 1)\n",
        "            grad_W_out = np.sum(self.out[:, :, :, None] * grad_pred[:, :, None, :], axis=(0, 1))  # (hidden_dim, 1)\n",
        "            grad_b_out = np.sum(grad_pred)\n",
        "\n",
        "            # Обновление весов\n",
        "            self.W_out -= self.lr * grad_W_out\n",
        "            self.b_out -= self.lr * grad_b_out\n",
        "\n",
        "            if epoch % 100 == 0:\n",
        "                print(f\"Epoch {epoch}: Loss = {loss:.4f}\")\n",
        "\n",
        "    def test(self, x_input):\n",
        "        x_input = np.array(x_input).reshape(1, 4, 2)\n",
        "        pred = self.forward(x_input)\n",
        "        print(np.round(pred.squeeze(), 2))"
      ],
      "metadata": {
        "id": "8GFejZeS0Ksb"
      },
      "execution_count": 139,
      "outputs": []
    },
    {
      "cell_type": "code",
      "source": [
        "X = ([\n",
        "    [[0, 0], [0, 0], [0, 0], [0, 1]],\n",
        "    [[0, 0], [1, 0], [0, 0], [0, 1]],\n",
        "    [[1, 0], [0, 0], [0, 0], [0, 0]],\n",
        "    [[0, 0], [0, 0], [0, 0], [1, 0]],\n",
        "    [[0, 0], [0, 0], [0, 0], [0, 0]],\n",
        "    [[0, 0], [1, 0], [0, 0], [0, 0]],\n",
        "])\n",
        "\n",
        "Y = ([\n",
        "    [[1], [1], [1], [1]],\n",
        "    [[1], [1], [1], [1]],\n",
        "    [[1], [1], [1], [1]],\n",
        "    [[1], [1], [1], [1]],\n",
        "    [[0], [0], [0], [0]],\n",
        "    [[1], [1], [1], [1]],\n",
        "])"
      ],
      "metadata": {
        "id": "GePyUpDs31Ve"
      },
      "execution_count": 140,
      "outputs": []
    },
    {
      "cell_type": "code",
      "source": [
        "print(\"Обучение\\n\")\n",
        "dataset = list(zip(X, Y))\n",
        "head = Head(2, 2, 4)\n",
        "head.train(dataset, epochs=3000)"
      ],
      "metadata": {
        "colab": {
          "base_uri": "https://localhost:8080/"
        },
        "id": "rWYrMsWN4h2A",
        "outputId": "2406914d-4a54-4c7c-a876-d61ffb466e5a"
      },
      "execution_count": 141,
      "outputs": [
        {
          "output_type": "stream",
          "name": "stdout",
          "text": [
            "Обучение\n",
            "\n",
            "Epoch 0: Loss = 0.2514\n",
            "Epoch 100: Loss = 0.1405\n",
            "Epoch 200: Loss = 0.1390\n",
            "Epoch 300: Loss = 0.1388\n",
            "Epoch 400: Loss = 0.1387\n",
            "Epoch 500: Loss = 0.1387\n",
            "Epoch 600: Loss = 0.1386\n",
            "Epoch 700: Loss = 0.1385\n",
            "Epoch 800: Loss = 0.1384\n",
            "Epoch 900: Loss = 0.1384\n",
            "Epoch 1000: Loss = 0.1383\n",
            "Epoch 1100: Loss = 0.1382\n",
            "Epoch 1200: Loss = 0.1381\n",
            "Epoch 1300: Loss = 0.1380\n",
            "Epoch 1400: Loss = 0.1380\n",
            "Epoch 1500: Loss = 0.1379\n",
            "Epoch 1600: Loss = 0.1378\n",
            "Epoch 1700: Loss = 0.1378\n",
            "Epoch 1800: Loss = 0.1377\n",
            "Epoch 1900: Loss = 0.1376\n",
            "Epoch 2000: Loss = 0.1375\n",
            "Epoch 2100: Loss = 0.1375\n",
            "Epoch 2200: Loss = 0.1374\n",
            "Epoch 2300: Loss = 0.1373\n",
            "Epoch 2400: Loss = 0.1373\n",
            "Epoch 2500: Loss = 0.1372\n",
            "Epoch 2600: Loss = 0.1371\n",
            "Epoch 2700: Loss = 0.1370\n",
            "Epoch 2800: Loss = 0.1370\n",
            "Epoch 2900: Loss = 0.1369\n"
          ]
        }
      ]
    },
    {
      "cell_type": "code",
      "source": [
        "print(\"Тест\\n\")\n",
        "head.test([[1, 1], [1, 1], [1, 1], [1, 1]])"
      ],
      "metadata": {
        "colab": {
          "base_uri": "https://localhost:8080/"
        },
        "id": "y0JK8Q3m8IzY",
        "outputId": "92da4870-d47e-41e0-b5d8-22ce734c29a0"
      },
      "execution_count": 142,
      "outputs": [
        {
          "output_type": "stream",
          "name": "stdout",
          "text": [
            "Тест\n",
            "\n",
            "[0.85 0.85 0.85 0.85]\n"
          ]
        }
      ]
    }
  ]
}