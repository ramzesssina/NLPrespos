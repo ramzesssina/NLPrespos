{
  "cells": [
    {
      "cell_type": "markdown",
      "metadata": {
        "id": "view-in-github",
        "colab_type": "text"
      },
      "source": [
        "<a href=\"https://colab.research.google.com/github/ramzesssina/NLPrespos/blob/main/%D0%9B%D0%B0%D0%B1%D0%BE%D1%80%D0%B0%D1%82%D0%BE%D1%80%D0%BD%D0%B0%D1%8F_%D1%80%D0%B0%D0%B1%D0%BE%D1%82%D0%B0_4.ipynb\" target=\"_parent\"><img src=\"https://colab.research.google.com/assets/colab-badge.svg\" alt=\"Open In Colab\"/></a>"
      ]
    },
    {
      "cell_type": "code",
      "execution_count": 127,
      "metadata": {
        "colab": {
          "base_uri": "https://localhost:8080/"
        },
        "id": "wzZ05Y1y76F2",
        "outputId": "8955938b-dae0-48ae-8042-7607dcf171b3"
      },
      "outputs": [
        {
          "output_type": "stream",
          "name": "stdout",
          "text": [
            "Requirement already satisfied: nltk in /usr/local/lib/python3.11/dist-packages (3.9.1)\n",
            "Requirement already satisfied: pymorphy3 in /usr/local/lib/python3.11/dist-packages (2.0.3)\n",
            "Requirement already satisfied: click in /usr/local/lib/python3.11/dist-packages (from nltk) (8.2.0)\n",
            "Requirement already satisfied: joblib in /usr/local/lib/python3.11/dist-packages (from nltk) (1.5.0)\n",
            "Requirement already satisfied: regex>=2021.8.3 in /usr/local/lib/python3.11/dist-packages (from nltk) (2024.11.6)\n",
            "Requirement already satisfied: tqdm in /usr/local/lib/python3.11/dist-packages (from nltk) (4.67.1)\n",
            "Requirement already satisfied: dawg2-python>=0.8.0 in /usr/local/lib/python3.11/dist-packages (from pymorphy3) (0.9.0)\n",
            "Requirement already satisfied: pymorphy3-dicts-ru in /usr/local/lib/python3.11/dist-packages (from pymorphy3) (2.4.417150.4580142)\n"
          ]
        }
      ],
      "source": [
        "!pip install nltk pymorphy3"
      ]
    },
    {
      "cell_type": "code",
      "execution_count": 128,
      "metadata": {
        "id": "l_cfYRPt2QHD"
      },
      "outputs": [],
      "source": [
        "import pandas as pd\n",
        "import pymorphy3\n",
        "import nltk\n",
        "import re\n",
        "import matplotlib.pyplot as plt\n",
        "import seaborn as sns\n",
        "from nltk.corpus import stopwords\n",
        "from nltk.stem import SnowballStemmer\n",
        "from nltk.stem import WordNetLemmatizer\n",
        "from sklearn.feature_extraction.text import TfidfVectorizer\n",
        "from sklearn.cluster import KMeans\n",
        "from sklearn.decomposition import PCA\n",
        "from sklearn.metrics import adjusted_rand_score\n",
        "from sklearn.model_selection import train_test_split\n",
        "import math\n",
        "from collections import Counter\n",
        "from nltk.stem import SnowballStemmer\n",
        "import numpy as np\n",
        "from string import punctuation\n",
        "from math import log\n",
        "from sklearn.metrics import adjusted_rand_score, v_measure_score"
      ]
    },
    {
      "cell_type": "code",
      "execution_count": 129,
      "metadata": {
        "colab": {
          "base_uri": "https://localhost:8080/"
        },
        "id": "GK5B82LB3O4j",
        "outputId": "75fc232b-ac29-4205-eb7e-5a40d8dc9374"
      },
      "outputs": [
        {
          "output_type": "stream",
          "name": "stderr",
          "text": [
            "[nltk_data] Downloading package stopwords to /root/nltk_data...\n",
            "[nltk_data]   Package stopwords is already up-to-date!\n",
            "[nltk_data] Downloading package wordnet to /root/nltk_data...\n",
            "[nltk_data]   Package wordnet is already up-to-date!\n"
          ]
        },
        {
          "output_type": "execute_result",
          "data": {
            "text/plain": [
              "True"
            ]
          },
          "metadata": {},
          "execution_count": 129
        }
      ],
      "source": [
        "nltk.download('stopwords')\n",
        "nltk.download('wordnet')"
      ]
    },
    {
      "cell_type": "code",
      "execution_count": 130,
      "metadata": {
        "id": "WxSKWA6t3UfR"
      },
      "outputs": [],
      "source": [
        "df = pd.read_csv('/content/amazon.csv')"
      ]
    },
    {
      "cell_type": "code",
      "execution_count": 131,
      "metadata": {
        "id": "GzmM6RQS5fw0"
      },
      "outputs": [],
      "source": [
        "df = df.iloc[:1001]"
      ]
    },
    {
      "cell_type": "code",
      "source": [
        "df"
      ],
      "metadata": {
        "colab": {
          "base_uri": "https://localhost:8080/",
          "height": 424
        },
        "id": "OaONfZfczMm-",
        "outputId": "c550db23-a503-410d-c221-814b480787b3"
      },
      "execution_count": 132,
      "outputs": [
        {
          "output_type": "execute_result",
          "data": {
            "text/plain": [
              "                                             reviewText  Positive\n",
              "0     This is a one of the best apps acording to a b...         1\n",
              "1     This is a pretty good version of the game for ...         1\n",
              "2     this is a really cool game. there are a bunch ...         1\n",
              "3     This is a silly game and can be frustrating, b...         1\n",
              "4     This is a terrific game on any pad. Hrs of fun...         1\n",
              "...                                                 ...       ...\n",
              "996   What seems like another boring old gemswap gam...         1\n",
              "997   Totally love it!  Very challenging, awesome gr...         1\n",
              "998   I am a fan of this game. Challenges you to thi...         1\n",
              "999   If you are the type of person who likes to rac...         1\n",
              "1000  Original review: Good graphics, sounds and mus...         1\n",
              "\n",
              "[1001 rows x 2 columns]"
            ],
            "text/html": [
              "\n",
              "  <div id=\"df-40749b08-5869-4f56-b63a-e23a4b014337\" class=\"colab-df-container\">\n",
              "    <div>\n",
              "<style scoped>\n",
              "    .dataframe tbody tr th:only-of-type {\n",
              "        vertical-align: middle;\n",
              "    }\n",
              "\n",
              "    .dataframe tbody tr th {\n",
              "        vertical-align: top;\n",
              "    }\n",
              "\n",
              "    .dataframe thead th {\n",
              "        text-align: right;\n",
              "    }\n",
              "</style>\n",
              "<table border=\"1\" class=\"dataframe\">\n",
              "  <thead>\n",
              "    <tr style=\"text-align: right;\">\n",
              "      <th></th>\n",
              "      <th>reviewText</th>\n",
              "      <th>Positive</th>\n",
              "    </tr>\n",
              "  </thead>\n",
              "  <tbody>\n",
              "    <tr>\n",
              "      <th>0</th>\n",
              "      <td>This is a one of the best apps acording to a b...</td>\n",
              "      <td>1</td>\n",
              "    </tr>\n",
              "    <tr>\n",
              "      <th>1</th>\n",
              "      <td>This is a pretty good version of the game for ...</td>\n",
              "      <td>1</td>\n",
              "    </tr>\n",
              "    <tr>\n",
              "      <th>2</th>\n",
              "      <td>this is a really cool game. there are a bunch ...</td>\n",
              "      <td>1</td>\n",
              "    </tr>\n",
              "    <tr>\n",
              "      <th>3</th>\n",
              "      <td>This is a silly game and can be frustrating, b...</td>\n",
              "      <td>1</td>\n",
              "    </tr>\n",
              "    <tr>\n",
              "      <th>4</th>\n",
              "      <td>This is a terrific game on any pad. Hrs of fun...</td>\n",
              "      <td>1</td>\n",
              "    </tr>\n",
              "    <tr>\n",
              "      <th>...</th>\n",
              "      <td>...</td>\n",
              "      <td>...</td>\n",
              "    </tr>\n",
              "    <tr>\n",
              "      <th>996</th>\n",
              "      <td>What seems like another boring old gemswap gam...</td>\n",
              "      <td>1</td>\n",
              "    </tr>\n",
              "    <tr>\n",
              "      <th>997</th>\n",
              "      <td>Totally love it!  Very challenging, awesome gr...</td>\n",
              "      <td>1</td>\n",
              "    </tr>\n",
              "    <tr>\n",
              "      <th>998</th>\n",
              "      <td>I am a fan of this game. Challenges you to thi...</td>\n",
              "      <td>1</td>\n",
              "    </tr>\n",
              "    <tr>\n",
              "      <th>999</th>\n",
              "      <td>If you are the type of person who likes to rac...</td>\n",
              "      <td>1</td>\n",
              "    </tr>\n",
              "    <tr>\n",
              "      <th>1000</th>\n",
              "      <td>Original review: Good graphics, sounds and mus...</td>\n",
              "      <td>1</td>\n",
              "    </tr>\n",
              "  </tbody>\n",
              "</table>\n",
              "<p>1001 rows × 2 columns</p>\n",
              "</div>\n",
              "    <div class=\"colab-df-buttons\">\n",
              "\n",
              "  <div class=\"colab-df-container\">\n",
              "    <button class=\"colab-df-convert\" onclick=\"convertToInteractive('df-40749b08-5869-4f56-b63a-e23a4b014337')\"\n",
              "            title=\"Convert this dataframe to an interactive table.\"\n",
              "            style=\"display:none;\">\n",
              "\n",
              "  <svg xmlns=\"http://www.w3.org/2000/svg\" height=\"24px\" viewBox=\"0 -960 960 960\">\n",
              "    <path d=\"M120-120v-720h720v720H120Zm60-500h600v-160H180v160Zm220 220h160v-160H400v160Zm0 220h160v-160H400v160ZM180-400h160v-160H180v160Zm440 0h160v-160H620v160ZM180-180h160v-160H180v160Zm440 0h160v-160H620v160Z\"/>\n",
              "  </svg>\n",
              "    </button>\n",
              "\n",
              "  <style>\n",
              "    .colab-df-container {\n",
              "      display:flex;\n",
              "      gap: 12px;\n",
              "    }\n",
              "\n",
              "    .colab-df-convert {\n",
              "      background-color: #E8F0FE;\n",
              "      border: none;\n",
              "      border-radius: 50%;\n",
              "      cursor: pointer;\n",
              "      display: none;\n",
              "      fill: #1967D2;\n",
              "      height: 32px;\n",
              "      padding: 0 0 0 0;\n",
              "      width: 32px;\n",
              "    }\n",
              "\n",
              "    .colab-df-convert:hover {\n",
              "      background-color: #E2EBFA;\n",
              "      box-shadow: 0px 1px 2px rgba(60, 64, 67, 0.3), 0px 1px 3px 1px rgba(60, 64, 67, 0.15);\n",
              "      fill: #174EA6;\n",
              "    }\n",
              "\n",
              "    .colab-df-buttons div {\n",
              "      margin-bottom: 4px;\n",
              "    }\n",
              "\n",
              "    [theme=dark] .colab-df-convert {\n",
              "      background-color: #3B4455;\n",
              "      fill: #D2E3FC;\n",
              "    }\n",
              "\n",
              "    [theme=dark] .colab-df-convert:hover {\n",
              "      background-color: #434B5C;\n",
              "      box-shadow: 0px 1px 3px 1px rgba(0, 0, 0, 0.15);\n",
              "      filter: drop-shadow(0px 1px 2px rgba(0, 0, 0, 0.3));\n",
              "      fill: #FFFFFF;\n",
              "    }\n",
              "  </style>\n",
              "\n",
              "    <script>\n",
              "      const buttonEl =\n",
              "        document.querySelector('#df-40749b08-5869-4f56-b63a-e23a4b014337 button.colab-df-convert');\n",
              "      buttonEl.style.display =\n",
              "        google.colab.kernel.accessAllowed ? 'block' : 'none';\n",
              "\n",
              "      async function convertToInteractive(key) {\n",
              "        const element = document.querySelector('#df-40749b08-5869-4f56-b63a-e23a4b014337');\n",
              "        const dataTable =\n",
              "          await google.colab.kernel.invokeFunction('convertToInteractive',\n",
              "                                                    [key], {});\n",
              "        if (!dataTable) return;\n",
              "\n",
              "        const docLinkHtml = 'Like what you see? Visit the ' +\n",
              "          '<a target=\"_blank\" href=https://colab.research.google.com/notebooks/data_table.ipynb>data table notebook</a>'\n",
              "          + ' to learn more about interactive tables.';\n",
              "        element.innerHTML = '';\n",
              "        dataTable['output_type'] = 'display_data';\n",
              "        await google.colab.output.renderOutput(dataTable, element);\n",
              "        const docLink = document.createElement('div');\n",
              "        docLink.innerHTML = docLinkHtml;\n",
              "        element.appendChild(docLink);\n",
              "      }\n",
              "    </script>\n",
              "  </div>\n",
              "\n",
              "\n",
              "    <div id=\"df-0d7b1c7c-efac-480f-a2ac-8a563f84051c\">\n",
              "      <button class=\"colab-df-quickchart\" onclick=\"quickchart('df-0d7b1c7c-efac-480f-a2ac-8a563f84051c')\"\n",
              "                title=\"Suggest charts\"\n",
              "                style=\"display:none;\">\n",
              "\n",
              "<svg xmlns=\"http://www.w3.org/2000/svg\" height=\"24px\"viewBox=\"0 0 24 24\"\n",
              "     width=\"24px\">\n",
              "    <g>\n",
              "        <path d=\"M19 3H5c-1.1 0-2 .9-2 2v14c0 1.1.9 2 2 2h14c1.1 0 2-.9 2-2V5c0-1.1-.9-2-2-2zM9 17H7v-7h2v7zm4 0h-2V7h2v10zm4 0h-2v-4h2v4z\"/>\n",
              "    </g>\n",
              "</svg>\n",
              "      </button>\n",
              "\n",
              "<style>\n",
              "  .colab-df-quickchart {\n",
              "      --bg-color: #E8F0FE;\n",
              "      --fill-color: #1967D2;\n",
              "      --hover-bg-color: #E2EBFA;\n",
              "      --hover-fill-color: #174EA6;\n",
              "      --disabled-fill-color: #AAA;\n",
              "      --disabled-bg-color: #DDD;\n",
              "  }\n",
              "\n",
              "  [theme=dark] .colab-df-quickchart {\n",
              "      --bg-color: #3B4455;\n",
              "      --fill-color: #D2E3FC;\n",
              "      --hover-bg-color: #434B5C;\n",
              "      --hover-fill-color: #FFFFFF;\n",
              "      --disabled-bg-color: #3B4455;\n",
              "      --disabled-fill-color: #666;\n",
              "  }\n",
              "\n",
              "  .colab-df-quickchart {\n",
              "    background-color: var(--bg-color);\n",
              "    border: none;\n",
              "    border-radius: 50%;\n",
              "    cursor: pointer;\n",
              "    display: none;\n",
              "    fill: var(--fill-color);\n",
              "    height: 32px;\n",
              "    padding: 0;\n",
              "    width: 32px;\n",
              "  }\n",
              "\n",
              "  .colab-df-quickchart:hover {\n",
              "    background-color: var(--hover-bg-color);\n",
              "    box-shadow: 0 1px 2px rgba(60, 64, 67, 0.3), 0 1px 3px 1px rgba(60, 64, 67, 0.15);\n",
              "    fill: var(--button-hover-fill-color);\n",
              "  }\n",
              "\n",
              "  .colab-df-quickchart-complete:disabled,\n",
              "  .colab-df-quickchart-complete:disabled:hover {\n",
              "    background-color: var(--disabled-bg-color);\n",
              "    fill: var(--disabled-fill-color);\n",
              "    box-shadow: none;\n",
              "  }\n",
              "\n",
              "  .colab-df-spinner {\n",
              "    border: 2px solid var(--fill-color);\n",
              "    border-color: transparent;\n",
              "    border-bottom-color: var(--fill-color);\n",
              "    animation:\n",
              "      spin 1s steps(1) infinite;\n",
              "  }\n",
              "\n",
              "  @keyframes spin {\n",
              "    0% {\n",
              "      border-color: transparent;\n",
              "      border-bottom-color: var(--fill-color);\n",
              "      border-left-color: var(--fill-color);\n",
              "    }\n",
              "    20% {\n",
              "      border-color: transparent;\n",
              "      border-left-color: var(--fill-color);\n",
              "      border-top-color: var(--fill-color);\n",
              "    }\n",
              "    30% {\n",
              "      border-color: transparent;\n",
              "      border-left-color: var(--fill-color);\n",
              "      border-top-color: var(--fill-color);\n",
              "      border-right-color: var(--fill-color);\n",
              "    }\n",
              "    40% {\n",
              "      border-color: transparent;\n",
              "      border-right-color: var(--fill-color);\n",
              "      border-top-color: var(--fill-color);\n",
              "    }\n",
              "    60% {\n",
              "      border-color: transparent;\n",
              "      border-right-color: var(--fill-color);\n",
              "    }\n",
              "    80% {\n",
              "      border-color: transparent;\n",
              "      border-right-color: var(--fill-color);\n",
              "      border-bottom-color: var(--fill-color);\n",
              "    }\n",
              "    90% {\n",
              "      border-color: transparent;\n",
              "      border-bottom-color: var(--fill-color);\n",
              "    }\n",
              "  }\n",
              "</style>\n",
              "\n",
              "      <script>\n",
              "        async function quickchart(key) {\n",
              "          const quickchartButtonEl =\n",
              "            document.querySelector('#' + key + ' button');\n",
              "          quickchartButtonEl.disabled = true;  // To prevent multiple clicks.\n",
              "          quickchartButtonEl.classList.add('colab-df-spinner');\n",
              "          try {\n",
              "            const charts = await google.colab.kernel.invokeFunction(\n",
              "                'suggestCharts', [key], {});\n",
              "          } catch (error) {\n",
              "            console.error('Error during call to suggestCharts:', error);\n",
              "          }\n",
              "          quickchartButtonEl.classList.remove('colab-df-spinner');\n",
              "          quickchartButtonEl.classList.add('colab-df-quickchart-complete');\n",
              "        }\n",
              "        (() => {\n",
              "          let quickchartButtonEl =\n",
              "            document.querySelector('#df-0d7b1c7c-efac-480f-a2ac-8a563f84051c button');\n",
              "          quickchartButtonEl.style.display =\n",
              "            google.colab.kernel.accessAllowed ? 'block' : 'none';\n",
              "        })();\n",
              "      </script>\n",
              "    </div>\n",
              "    </div>\n",
              "  </div>\n"
            ],
            "application/vnd.google.colaboratory.intrinsic+json": {
              "type": "dataframe",
              "variable_name": "df",
              "summary": "{\n  \"name\": \"df\",\n  \"rows\": 1001,\n  \"fields\": [\n    {\n      \"column\": \"reviewText\",\n      \"properties\": {\n        \"dtype\": \"string\",\n        \"num_unique_values\": 1001,\n        \"samples\": [\n          \"Angry Birds is one of the greatest games I have ever played, and I just love how challenging the different levels can be. The birds are also very adorable with their bushy eyebrows. This is a must-have app, for not only is the actual game fun, but the An\",\n          \"I got totally addicted to this game and completed all levels.  Great way to pass the time.  Kids play it too.\",\n          \"So addicting that it can waste out most of your day, its a great game when you have nothing else better to do\"\n        ],\n        \"semantic_type\": \"\",\n        \"description\": \"\"\n      }\n    },\n    {\n      \"column\": \"Positive\",\n      \"properties\": {\n        \"dtype\": \"number\",\n        \"std\": 0,\n        \"min\": 0,\n        \"max\": 1,\n        \"num_unique_values\": 2,\n        \"samples\": [\n          0,\n          1\n        ],\n        \"semantic_type\": \"\",\n        \"description\": \"\"\n      }\n    }\n  ]\n}"
            }
          },
          "metadata": {},
          "execution_count": 132
        }
      ]
    },
    {
      "cell_type": "code",
      "execution_count": 133,
      "metadata": {
        "id": "diCQE_6-70js",
        "colab": {
          "base_uri": "https://localhost:8080/"
        },
        "outputId": "432057b3-3e37-4abc-d4de-08dedd48c8c3"
      },
      "outputs": [
        {
          "output_type": "stream",
          "name": "stderr",
          "text": [
            "[nltk_data] Downloading package stopwords to /root/nltk_data...\n",
            "[nltk_data]   Package stopwords is already up-to-date!\n"
          ]
        }
      ],
      "source": [
        "nltk.download('stopwords')\n",
        "\n",
        "russian_stopwords = stopwords.words(\"english\")\n",
        "morph = pymorphy3.MorphAnalyzer()\n",
        "stemmer = SnowballStemmer('english')"
      ]
    },
    {
      "cell_type": "code",
      "execution_count": 134,
      "metadata": {
        "id": "1fTNizfZ6vfH"
      },
      "outputs": [],
      "source": [
        "lemmatizer = WordNetLemmatizer()\n",
        "stop_words_en_set = set(stopwords.words(\"english\"))"
      ]
    },
    {
      "cell_type": "code",
      "execution_count": 135,
      "metadata": {
        "id": "VmG2QRy97jXB"
      },
      "outputs": [],
      "source": [
        "def change_text(texts):\n",
        "    words = texts.lower().split()\n",
        "    lemmatized = []\n",
        "\n",
        "    stop_free = []\n",
        "    for word in words:\n",
        "      if word not in russian_stopwords:\n",
        "        stop_free.append(word)\n",
        "\n",
        "    punc_free = \"\"\n",
        "    for char in \" \".join(stop_free):\n",
        "      if char not in punctuation:\n",
        "        punc_free += char\n",
        "\n",
        "    for word in punc_free.split():\n",
        "        lemma = morph.parse(word)[0].normal_form\n",
        "        lemmatized.append(lemma)\n",
        "\n",
        "    return \" \".join(lemmatized)"
      ]
    },
    {
      "cell_type": "code",
      "execution_count": 136,
      "metadata": {
        "id": "LL5R2IAX7lYT",
        "colab": {
          "base_uri": "https://localhost:8080/"
        },
        "outputId": "0b49db76-612c-4bb8-d194-38ac49f91fcd"
      },
      "outputs": [
        {
          "output_type": "stream",
          "name": "stdout",
          "text": [
            "['one best apps acording bunch people agree bombs eggs pigs tnt king pigs realustic stuff', 'pretty good version game free lots different levels play kids enjoy lot too', 'really cool game bunch levels find golden eggs super fun', 'silly game frustrating lots fun definitely recommend fun time', 'terrific game pad hrs fun grandkids love it great entertainment waiting long lines', 'entertaining game smart play it guess thats like itits easy fun thats games suppose be warned game highly addictive', 'awesome need wi ti play trust me really fun addicting like 100 levels even free waste money expensive one mean seriously get app', 'awesome bet one even reads reviews know game good need', 'basicly free version ads thats actually awesome addicting free time really reccomend it', 'far best free app available anywhere helped pass time nothing else would do pass one up ps hate 20 word minimum', 'definitely great game get 6yearold grandnephew teach tricks figured them configurations tough beat particularly care spending 45 minutes completing level', 'this fun time consuming works great kindle fire really like game btother', 'good like physics games free games bird games like free version ipod get levels adds pop corner barely noticeable', 'great tried true game cure boredom great try get 3 stars every level', 'one best apps world along angry birds games great passing time by', 'super fun though little frustrating times loved got kindle would beg brother dad play get play time', 'ad free version angry birds old fashioned version angry birds series huge partially difficult game played angry birds first time love', 'best app ever makes way easier babysitt mental kid app fun', 'best app ever downloaded people say 1 2 3 4 stars know much supposed purfor 5 stars app', 'bestest game ever omg im excited to play omg omg omg omg love angry birds much da bomb diggety cool omg omg omg omg omg']\n"
          ]
        }
      ],
      "source": [
        "change_text_text = [change_text(text) for text in df['reviewText']]\n",
        "print(change_text_text[:20])\n",
        "\n",
        "# Изменили текст применив лемматизацию"
      ]
    },
    {
      "cell_type": "code",
      "source": [
        "df['change_text'] = df['reviewText'].apply(change_text)\n",
        "df.head(11)"
      ],
      "metadata": {
        "colab": {
          "base_uri": "https://localhost:8080/",
          "height": 394
        },
        "id": "X7PkGJJUzTyJ",
        "outputId": "0a8ff69a-677e-403a-d1b7-f389da5975a5"
      },
      "execution_count": 137,
      "outputs": [
        {
          "output_type": "execute_result",
          "data": {
            "text/plain": [
              "                                           reviewText  Positive  \\\n",
              "0   This is a one of the best apps acording to a b...         1   \n",
              "1   This is a pretty good version of the game for ...         1   \n",
              "2   this is a really cool game. there are a bunch ...         1   \n",
              "3   This is a silly game and can be frustrating, b...         1   \n",
              "4   This is a terrific game on any pad. Hrs of fun...         1   \n",
              "5   This is a very entertaining game!  You don't h...         1   \n",
              "6   this is awesome and you don't need wi ti to pl...         1   \n",
              "7   this is awesome I bet no one even reads the re...         1   \n",
              "8   This is basicly the free version but with ads....         1   \n",
              "9   this is by far the best free app that is avail...         1   \n",
              "10  This is definitely a great game.  I have to ge...         1   \n",
              "\n",
              "                                          change_text  \n",
              "0   one best apps acording bunch people agree bomb...  \n",
              "1   pretty good version game free lots different l...  \n",
              "2   really cool game bunch levels find golden eggs...  \n",
              "3   silly game frustrating lots fun definitely rec...  \n",
              "4   terrific game pad hrs fun grandkids love it gr...  \n",
              "5   entertaining game smart play it guess thats li...  \n",
              "6   awesome need wi ti play trust me really fun ad...  \n",
              "7   awesome bet one even reads reviews know game g...  \n",
              "8   basicly free version ads thats actually awesom...  \n",
              "9   far best free app available anywhere helped pa...  \n",
              "10  definitely great game get 6yearold grandnephew...  "
            ],
            "text/html": [
              "\n",
              "  <div id=\"df-3cae3d3f-3022-4122-a9eb-916bc4b1c072\" class=\"colab-df-container\">\n",
              "    <div>\n",
              "<style scoped>\n",
              "    .dataframe tbody tr th:only-of-type {\n",
              "        vertical-align: middle;\n",
              "    }\n",
              "\n",
              "    .dataframe tbody tr th {\n",
              "        vertical-align: top;\n",
              "    }\n",
              "\n",
              "    .dataframe thead th {\n",
              "        text-align: right;\n",
              "    }\n",
              "</style>\n",
              "<table border=\"1\" class=\"dataframe\">\n",
              "  <thead>\n",
              "    <tr style=\"text-align: right;\">\n",
              "      <th></th>\n",
              "      <th>reviewText</th>\n",
              "      <th>Positive</th>\n",
              "      <th>change_text</th>\n",
              "    </tr>\n",
              "  </thead>\n",
              "  <tbody>\n",
              "    <tr>\n",
              "      <th>0</th>\n",
              "      <td>This is a one of the best apps acording to a b...</td>\n",
              "      <td>1</td>\n",
              "      <td>one best apps acording bunch people agree bomb...</td>\n",
              "    </tr>\n",
              "    <tr>\n",
              "      <th>1</th>\n",
              "      <td>This is a pretty good version of the game for ...</td>\n",
              "      <td>1</td>\n",
              "      <td>pretty good version game free lots different l...</td>\n",
              "    </tr>\n",
              "    <tr>\n",
              "      <th>2</th>\n",
              "      <td>this is a really cool game. there are a bunch ...</td>\n",
              "      <td>1</td>\n",
              "      <td>really cool game bunch levels find golden eggs...</td>\n",
              "    </tr>\n",
              "    <tr>\n",
              "      <th>3</th>\n",
              "      <td>This is a silly game and can be frustrating, b...</td>\n",
              "      <td>1</td>\n",
              "      <td>silly game frustrating lots fun definitely rec...</td>\n",
              "    </tr>\n",
              "    <tr>\n",
              "      <th>4</th>\n",
              "      <td>This is a terrific game on any pad. Hrs of fun...</td>\n",
              "      <td>1</td>\n",
              "      <td>terrific game pad hrs fun grandkids love it gr...</td>\n",
              "    </tr>\n",
              "    <tr>\n",
              "      <th>5</th>\n",
              "      <td>This is a very entertaining game!  You don't h...</td>\n",
              "      <td>1</td>\n",
              "      <td>entertaining game smart play it guess thats li...</td>\n",
              "    </tr>\n",
              "    <tr>\n",
              "      <th>6</th>\n",
              "      <td>this is awesome and you don't need wi ti to pl...</td>\n",
              "      <td>1</td>\n",
              "      <td>awesome need wi ti play trust me really fun ad...</td>\n",
              "    </tr>\n",
              "    <tr>\n",
              "      <th>7</th>\n",
              "      <td>this is awesome I bet no one even reads the re...</td>\n",
              "      <td>1</td>\n",
              "      <td>awesome bet one even reads reviews know game g...</td>\n",
              "    </tr>\n",
              "    <tr>\n",
              "      <th>8</th>\n",
              "      <td>This is basicly the free version but with ads....</td>\n",
              "      <td>1</td>\n",
              "      <td>basicly free version ads thats actually awesom...</td>\n",
              "    </tr>\n",
              "    <tr>\n",
              "      <th>9</th>\n",
              "      <td>this is by far the best free app that is avail...</td>\n",
              "      <td>1</td>\n",
              "      <td>far best free app available anywhere helped pa...</td>\n",
              "    </tr>\n",
              "    <tr>\n",
              "      <th>10</th>\n",
              "      <td>This is definitely a great game.  I have to ge...</td>\n",
              "      <td>1</td>\n",
              "      <td>definitely great game get 6yearold grandnephew...</td>\n",
              "    </tr>\n",
              "  </tbody>\n",
              "</table>\n",
              "</div>\n",
              "    <div class=\"colab-df-buttons\">\n",
              "\n",
              "  <div class=\"colab-df-container\">\n",
              "    <button class=\"colab-df-convert\" onclick=\"convertToInteractive('df-3cae3d3f-3022-4122-a9eb-916bc4b1c072')\"\n",
              "            title=\"Convert this dataframe to an interactive table.\"\n",
              "            style=\"display:none;\">\n",
              "\n",
              "  <svg xmlns=\"http://www.w3.org/2000/svg\" height=\"24px\" viewBox=\"0 -960 960 960\">\n",
              "    <path d=\"M120-120v-720h720v720H120Zm60-500h600v-160H180v160Zm220 220h160v-160H400v160Zm0 220h160v-160H400v160ZM180-400h160v-160H180v160Zm440 0h160v-160H620v160ZM180-180h160v-160H180v160Zm440 0h160v-160H620v160Z\"/>\n",
              "  </svg>\n",
              "    </button>\n",
              "\n",
              "  <style>\n",
              "    .colab-df-container {\n",
              "      display:flex;\n",
              "      gap: 12px;\n",
              "    }\n",
              "\n",
              "    .colab-df-convert {\n",
              "      background-color: #E8F0FE;\n",
              "      border: none;\n",
              "      border-radius: 50%;\n",
              "      cursor: pointer;\n",
              "      display: none;\n",
              "      fill: #1967D2;\n",
              "      height: 32px;\n",
              "      padding: 0 0 0 0;\n",
              "      width: 32px;\n",
              "    }\n",
              "\n",
              "    .colab-df-convert:hover {\n",
              "      background-color: #E2EBFA;\n",
              "      box-shadow: 0px 1px 2px rgba(60, 64, 67, 0.3), 0px 1px 3px 1px rgba(60, 64, 67, 0.15);\n",
              "      fill: #174EA6;\n",
              "    }\n",
              "\n",
              "    .colab-df-buttons div {\n",
              "      margin-bottom: 4px;\n",
              "    }\n",
              "\n",
              "    [theme=dark] .colab-df-convert {\n",
              "      background-color: #3B4455;\n",
              "      fill: #D2E3FC;\n",
              "    }\n",
              "\n",
              "    [theme=dark] .colab-df-convert:hover {\n",
              "      background-color: #434B5C;\n",
              "      box-shadow: 0px 1px 3px 1px rgba(0, 0, 0, 0.15);\n",
              "      filter: drop-shadow(0px 1px 2px rgba(0, 0, 0, 0.3));\n",
              "      fill: #FFFFFF;\n",
              "    }\n",
              "  </style>\n",
              "\n",
              "    <script>\n",
              "      const buttonEl =\n",
              "        document.querySelector('#df-3cae3d3f-3022-4122-a9eb-916bc4b1c072 button.colab-df-convert');\n",
              "      buttonEl.style.display =\n",
              "        google.colab.kernel.accessAllowed ? 'block' : 'none';\n",
              "\n",
              "      async function convertToInteractive(key) {\n",
              "        const element = document.querySelector('#df-3cae3d3f-3022-4122-a9eb-916bc4b1c072');\n",
              "        const dataTable =\n",
              "          await google.colab.kernel.invokeFunction('convertToInteractive',\n",
              "                                                    [key], {});\n",
              "        if (!dataTable) return;\n",
              "\n",
              "        const docLinkHtml = 'Like what you see? Visit the ' +\n",
              "          '<a target=\"_blank\" href=https://colab.research.google.com/notebooks/data_table.ipynb>data table notebook</a>'\n",
              "          + ' to learn more about interactive tables.';\n",
              "        element.innerHTML = '';\n",
              "        dataTable['output_type'] = 'display_data';\n",
              "        await google.colab.output.renderOutput(dataTable, element);\n",
              "        const docLink = document.createElement('div');\n",
              "        docLink.innerHTML = docLinkHtml;\n",
              "        element.appendChild(docLink);\n",
              "      }\n",
              "    </script>\n",
              "  </div>\n",
              "\n",
              "\n",
              "    <div id=\"df-71a2c603-77a6-4a3f-a41d-900d705b085b\">\n",
              "      <button class=\"colab-df-quickchart\" onclick=\"quickchart('df-71a2c603-77a6-4a3f-a41d-900d705b085b')\"\n",
              "                title=\"Suggest charts\"\n",
              "                style=\"display:none;\">\n",
              "\n",
              "<svg xmlns=\"http://www.w3.org/2000/svg\" height=\"24px\"viewBox=\"0 0 24 24\"\n",
              "     width=\"24px\">\n",
              "    <g>\n",
              "        <path d=\"M19 3H5c-1.1 0-2 .9-2 2v14c0 1.1.9 2 2 2h14c1.1 0 2-.9 2-2V5c0-1.1-.9-2-2-2zM9 17H7v-7h2v7zm4 0h-2V7h2v10zm4 0h-2v-4h2v4z\"/>\n",
              "    </g>\n",
              "</svg>\n",
              "      </button>\n",
              "\n",
              "<style>\n",
              "  .colab-df-quickchart {\n",
              "      --bg-color: #E8F0FE;\n",
              "      --fill-color: #1967D2;\n",
              "      --hover-bg-color: #E2EBFA;\n",
              "      --hover-fill-color: #174EA6;\n",
              "      --disabled-fill-color: #AAA;\n",
              "      --disabled-bg-color: #DDD;\n",
              "  }\n",
              "\n",
              "  [theme=dark] .colab-df-quickchart {\n",
              "      --bg-color: #3B4455;\n",
              "      --fill-color: #D2E3FC;\n",
              "      --hover-bg-color: #434B5C;\n",
              "      --hover-fill-color: #FFFFFF;\n",
              "      --disabled-bg-color: #3B4455;\n",
              "      --disabled-fill-color: #666;\n",
              "  }\n",
              "\n",
              "  .colab-df-quickchart {\n",
              "    background-color: var(--bg-color);\n",
              "    border: none;\n",
              "    border-radius: 50%;\n",
              "    cursor: pointer;\n",
              "    display: none;\n",
              "    fill: var(--fill-color);\n",
              "    height: 32px;\n",
              "    padding: 0;\n",
              "    width: 32px;\n",
              "  }\n",
              "\n",
              "  .colab-df-quickchart:hover {\n",
              "    background-color: var(--hover-bg-color);\n",
              "    box-shadow: 0 1px 2px rgba(60, 64, 67, 0.3), 0 1px 3px 1px rgba(60, 64, 67, 0.15);\n",
              "    fill: var(--button-hover-fill-color);\n",
              "  }\n",
              "\n",
              "  .colab-df-quickchart-complete:disabled,\n",
              "  .colab-df-quickchart-complete:disabled:hover {\n",
              "    background-color: var(--disabled-bg-color);\n",
              "    fill: var(--disabled-fill-color);\n",
              "    box-shadow: none;\n",
              "  }\n",
              "\n",
              "  .colab-df-spinner {\n",
              "    border: 2px solid var(--fill-color);\n",
              "    border-color: transparent;\n",
              "    border-bottom-color: var(--fill-color);\n",
              "    animation:\n",
              "      spin 1s steps(1) infinite;\n",
              "  }\n",
              "\n",
              "  @keyframes spin {\n",
              "    0% {\n",
              "      border-color: transparent;\n",
              "      border-bottom-color: var(--fill-color);\n",
              "      border-left-color: var(--fill-color);\n",
              "    }\n",
              "    20% {\n",
              "      border-color: transparent;\n",
              "      border-left-color: var(--fill-color);\n",
              "      border-top-color: var(--fill-color);\n",
              "    }\n",
              "    30% {\n",
              "      border-color: transparent;\n",
              "      border-left-color: var(--fill-color);\n",
              "      border-top-color: var(--fill-color);\n",
              "      border-right-color: var(--fill-color);\n",
              "    }\n",
              "    40% {\n",
              "      border-color: transparent;\n",
              "      border-right-color: var(--fill-color);\n",
              "      border-top-color: var(--fill-color);\n",
              "    }\n",
              "    60% {\n",
              "      border-color: transparent;\n",
              "      border-right-color: var(--fill-color);\n",
              "    }\n",
              "    80% {\n",
              "      border-color: transparent;\n",
              "      border-right-color: var(--fill-color);\n",
              "      border-bottom-color: var(--fill-color);\n",
              "    }\n",
              "    90% {\n",
              "      border-color: transparent;\n",
              "      border-bottom-color: var(--fill-color);\n",
              "    }\n",
              "  }\n",
              "</style>\n",
              "\n",
              "      <script>\n",
              "        async function quickchart(key) {\n",
              "          const quickchartButtonEl =\n",
              "            document.querySelector('#' + key + ' button');\n",
              "          quickchartButtonEl.disabled = true;  // To prevent multiple clicks.\n",
              "          quickchartButtonEl.classList.add('colab-df-spinner');\n",
              "          try {\n",
              "            const charts = await google.colab.kernel.invokeFunction(\n",
              "                'suggestCharts', [key], {});\n",
              "          } catch (error) {\n",
              "            console.error('Error during call to suggestCharts:', error);\n",
              "          }\n",
              "          quickchartButtonEl.classList.remove('colab-df-spinner');\n",
              "          quickchartButtonEl.classList.add('colab-df-quickchart-complete');\n",
              "        }\n",
              "        (() => {\n",
              "          let quickchartButtonEl =\n",
              "            document.querySelector('#df-71a2c603-77a6-4a3f-a41d-900d705b085b button');\n",
              "          quickchartButtonEl.style.display =\n",
              "            google.colab.kernel.accessAllowed ? 'block' : 'none';\n",
              "        })();\n",
              "      </script>\n",
              "    </div>\n",
              "    </div>\n",
              "  </div>\n"
            ],
            "application/vnd.google.colaboratory.intrinsic+json": {
              "type": "dataframe",
              "variable_name": "df",
              "summary": "{\n  \"name\": \"df\",\n  \"rows\": 1001,\n  \"fields\": [\n    {\n      \"column\": \"reviewText\",\n      \"properties\": {\n        \"dtype\": \"string\",\n        \"num_unique_values\": 1001,\n        \"samples\": [\n          \"Angry Birds is one of the greatest games I have ever played, and I just love how challenging the different levels can be. The birds are also very adorable with their bushy eyebrows. This is a must-have app, for not only is the actual game fun, but the An\",\n          \"I got totally addicted to this game and completed all levels.  Great way to pass the time.  Kids play it too.\",\n          \"So addicting that it can waste out most of your day, its a great game when you have nothing else better to do\"\n        ],\n        \"semantic_type\": \"\",\n        \"description\": \"\"\n      }\n    },\n    {\n      \"column\": \"Positive\",\n      \"properties\": {\n        \"dtype\": \"number\",\n        \"std\": 0,\n        \"min\": 0,\n        \"max\": 1,\n        \"num_unique_values\": 2,\n        \"samples\": [\n          0,\n          1\n        ],\n        \"semantic_type\": \"\",\n        \"description\": \"\"\n      }\n    },\n    {\n      \"column\": \"change_text\",\n      \"properties\": {\n        \"dtype\": \"string\",\n        \"num_unique_values\": 1001,\n        \"samples\": [\n          \"angry birds one greatest games ever played love challenging different levels be birds also adorable bushy eyebrows musthave app actual game fun\",\n          \"got totally addicted game completed levels great way pass time kids play too\"\n        ],\n        \"semantic_type\": \"\",\n        \"description\": \"\"\n      }\n    }\n  ]\n}"
            }
          },
          "metadata": {},
          "execution_count": 137
        }
      ]
    },
    {
      "cell_type": "code",
      "execution_count": 138,
      "metadata": {
        "id": "VqAbqWic8z2H"
      },
      "outputs": [],
      "source": [
        "def tokin(text):\n",
        "    clear_sub = re.sub(r\"[^a-zA-Z\\s']\", \"\", text)\n",
        "    words = clear_sub.split()\n",
        "    return words"
      ]
    },
    {
      "cell_type": "code",
      "execution_count": 139,
      "metadata": {
        "colab": {
          "base_uri": "https://localhost:8080/"
        },
        "id": "v_2qZyP181AM",
        "outputId": "7d41fa3a-09df-46cc-e523-ca871ae55afa"
      },
      "outputs": [
        {
          "output_type": "stream",
          "name": "stdout",
          "text": [
            "[['one', 'best', 'apps', 'acording', 'bunch', 'people', 'agree', 'bombs', 'eggs', 'pigs', 'tnt', 'king', 'pigs', 'realustic', 'stuff'], ['pretty', 'good', 'version', 'game', 'free', 'lots', 'different', 'levels', 'play', 'kids', 'enjoy', 'lot', 'too'], ['really', 'cool', 'game', 'bunch', 'levels', 'find', 'golden', 'eggs', 'super', 'fun'], ['silly', 'game', 'frustrating', 'lots', 'fun', 'definitely', 'recommend', 'fun', 'time'], ['terrific', 'game', 'pad', 'hrs', 'fun', 'grandkids', 'love', 'it', 'great', 'entertainment', 'waiting', 'long', 'lines'], ['entertaining', 'game', 'smart', 'play', 'it', 'guess', 'thats', 'like', 'itits', 'easy', 'fun', 'thats', 'games', 'suppose', 'be', 'warned', 'game', 'highly', 'addictive'], ['awesome', 'need', 'wi', 'ti', 'play', 'trust', 'me', 'really', 'fun', 'addicting', 'like', 'levels', 'even', 'free', 'waste', 'money', 'expensive', 'one', 'mean', 'seriously', 'get', 'app'], ['awesome', 'bet', 'one', 'even', 'reads', 'reviews', 'know', 'game', 'good', 'need'], ['basicly', 'free', 'version', 'ads', 'thats', 'actually', 'awesome', 'addicting', 'free', 'time', 'really', 'reccomend', 'it'], ['far', 'best', 'free', 'app', 'available', 'anywhere', 'helped', 'pass', 'time', 'nothing', 'else', 'would', 'do', 'pass', 'one', 'up', 'ps', 'hate', 'word', 'minimum'], ['definitely', 'great', 'game', 'get', 'yearold', 'grandnephew', 'teach', 'tricks', 'figured', 'them', 'configurations', 'tough', 'beat', 'particularly', 'care', 'spending', 'minutes', 'completing', 'level'], ['this', 'fun', 'time', 'consuming', 'works', 'great', 'kindle', 'fire', 'really', 'like', 'game', 'btother'], ['good', 'like', 'physics', 'games', 'free', 'games', 'bird', 'games', 'like', 'free', 'version', 'ipod', 'get', 'levels', 'adds', 'pop', 'corner', 'barely', 'noticeable'], ['great', 'tried', 'true', 'game', 'cure', 'boredom', 'great', 'try', 'get', 'stars', 'every', 'level'], ['one', 'best', 'apps', 'world', 'along', 'angry', 'birds', 'games', 'great', 'passing', 'time', 'by'], ['super', 'fun', 'though', 'little', 'frustrating', 'times', 'loved', 'got', 'kindle', 'would', 'beg', 'brother', 'dad', 'play', 'get', 'play', 'time'], ['ad', 'free', 'version', 'angry', 'birds', 'old', 'fashioned', 'version', 'angry', 'birds', 'series', 'huge', 'partially', 'difficult', 'game', 'played', 'angry', 'birds', 'first', 'time', 'love'], ['best', 'app', 'ever', 'makes', 'way', 'easier', 'babysitt', 'mental', 'kid', 'app', 'fun'], ['best', 'app', 'ever', 'downloaded', 'people', 'say', 'stars', 'know', 'much', 'supposed', 'purfor', 'stars', 'app'], ['bestest', 'game', 'ever', 'omg', 'im', 'excited', 'to', 'play', 'omg', 'omg', 'omg', 'omg', 'love', 'angry', 'birds', 'much', 'da', 'bomb', 'diggety', 'cool', 'omg', 'omg', 'omg', 'omg', 'omg']]\n"
          ]
        }
      ],
      "source": [
        "Tokin_for_lemma = [tokin(text) for text in change_text_text]\n",
        "print(Tokin_for_lemma[:20])\n",
        "\n",
        "#Применил Токенизацию"
      ]
    },
    {
      "cell_type": "code",
      "execution_count": 140,
      "metadata": {
        "id": "ddcFEZax936z",
        "colab": {
          "base_uri": "https://localhost:8080/"
        },
        "outputId": "065cc85c-b9e4-4b78-feb4-eba44f3083ca"
      },
      "outputs": [
        {
          "output_type": "stream",
          "name": "stdout",
          "text": [
            "['a', 'aas', 'ab', 'abilities', 'ability', 'able', 'about', 'aboutits', 'abruptly', 'absolute', 'absolutely', 'abuilities', 'access', 'accidently', 'accomplish', 'accomplished', 'accounting', 'acer', 'achieve', 'achievement']\n"
          ]
        }
      ],
      "source": [
        "unique_words = []\n",
        "for sublist in Tokin_for_lemma:\n",
        "  for text in sublist:\n",
        "    if text not in unique_words:\n",
        "      unique_words.append(text)\n",
        "unique_words = sorted(unique_words)\n",
        "print(unique_words[:20])"
      ]
    },
    {
      "cell_type": "code",
      "execution_count": 141,
      "metadata": {
        "id": "6UjOvn5I97lV",
        "colab": {
          "base_uri": "https://localhost:8080/"
        },
        "outputId": "da4f4fc5-2f6b-4702-bbdc-1481333274e4"
      },
      "outputs": [
        {
          "output_type": "stream",
          "name": "stdout",
          "text": [
            "['a', 'aas', 'ab', 'abilities', 'ability', 'able', 'about', 'aboutits', 'abruptly', 'absolute', 'absolutely', 'abuilities', 'access', 'accidently', 'accomplish', 'accomplished', 'accounting', 'acer', 'achieve', 'achievement']\n"
          ]
        },
        {
          "output_type": "execute_result",
          "data": {
            "text/plain": [
              "array([[0, 0, 0, ..., 0, 0, 0],\n",
              "       [0, 0, 0, ..., 0, 0, 0],\n",
              "       [0, 0, 0, ..., 0, 0, 0],\n",
              "       ...,\n",
              "       [0, 0, 0, ..., 0, 0, 0],\n",
              "       [0, 0, 0, ..., 0, 0, 0],\n",
              "       [0, 0, 0, ..., 0, 0, 0]])"
            ]
          },
          "metadata": {},
          "execution_count": 141
        }
      ],
      "source": [
        "def bag_of_words(Tokin_for_lemma, unique_words):\n",
        "    matrix = []\n",
        "    for sublist in Tokin_for_lemma:\n",
        "        vector = [sublist.count(word) for word in unique_words]\n",
        "        matrix.append(vector)\n",
        "    return np.array(matrix)\n",
        "\n",
        "bow_matrix = bag_of_words(Tokin_for_lemma, unique_words)\n",
        "print(unique_words[:20])\n",
        "bow_matrix\n",
        "\n",
        "# Bag Of Words"
      ]
    },
    {
      "cell_type": "code",
      "execution_count": 142,
      "metadata": {
        "id": "FfPPjsnC-Aqy",
        "colab": {
          "base_uri": "https://localhost:8080/"
        },
        "outputId": "53106e7d-1041-4a0f-c59f-02c85fd1ad3d"
      },
      "outputs": [
        {
          "output_type": "stream",
          "name": "stdout",
          "text": [
            "['a', 'aas', 'ab', 'abilities', 'ability', 'able', 'about', 'aboutits', 'abruptly', 'absolute', 'absolutely', 'abuilities', 'access', 'accidently', 'accomplish', 'accomplished', 'accounting', 'acer', 'achieve', 'achievement']\n",
            "Матрица TF-IDF:\n",
            "[[0. 0. 0. ... 0. 0. 0.]\n",
            " [0. 0. 0. ... 0. 0. 0.]\n",
            " [0. 0. 0. ... 0. 0. 0.]\n",
            " ...\n",
            " [0. 0. 0. ... 0. 0. 0.]\n",
            " [0. 0. 0. ... 0. 0. 0.]\n",
            " [0. 0. 0. ... 0. 0. 0.]]\n"
          ]
        }
      ],
      "source": [
        "def manual_tfidf(bow_matrix):\n",
        "    tf = bow_matrix / bow_matrix.sum(axis=1, keepdims=True)\n",
        "\n",
        "    idf = np.array([log(len(bow_matrix) / (1 + np.count_nonzero(bow_matrix[:, i]))) for i in range(bow_matrix.shape[1])])\n",
        "\n",
        "    tfidf = tf * idf\n",
        "    return tfidf\n",
        "\n",
        "tfidf_matrix = manual_tfidf(bow_matrix)\n",
        "print(unique_words[:20])\n",
        "print(\"Матрица TF-IDF:\")\n",
        "print(tfidf_matrix)\n",
        "\n",
        "#TF-IDF"
      ]
    },
    {
      "cell_type": "code",
      "source": [
        "n_clusters = df['Positive'].nunique()\n",
        "kmeans = KMeans(n_clusters=n_clusters, random_state=42)\n",
        "clusters = kmeans.fit_predict(tfidf_matrix)"
      ],
      "metadata": {
        "id": "WPsJ90Oj0WX9"
      },
      "execution_count": 143,
      "outputs": []
    },
    {
      "cell_type": "code",
      "source": [
        "true_labels = df['Positive'].values\n",
        "ari = adjusted_rand_score(true_labels, clusters)\n",
        "v_measure = v_measure_score(true_labels, clusters)\n",
        "print(f\"Качество кластеризации:\\nARI: {ari:.2f}\\nV-measure: {v_measure:.2f}\")"
      ],
      "metadata": {
        "colab": {
          "base_uri": "https://localhost:8080/"
        },
        "id": "0MqyzTB50lJC",
        "outputId": "9f2f9f42-6b77-4bcc-8ffc-9e398d3b5c02"
      },
      "execution_count": 144,
      "outputs": [
        {
          "output_type": "stream",
          "name": "stdout",
          "text": [
            "Качество кластеризации:\n",
            "ARI: -0.00\n",
            "V-measure: 0.00\n"
          ]
        }
      ]
    },
    {
      "cell_type": "code",
      "source": [
        "all_words = [word for sublist in Tokin_for_lemma for word in sublist]\n",
        "word_counts = pd.Series(all_words).value_counts()\n",
        "\n",
        "print(word_counts)\n",
        "#Количество встречающихся слов"
      ],
      "metadata": {
        "colab": {
          "base_uri": "https://localhost:8080/"
        },
        "id": "On90LiEj09NQ",
        "outputId": "407a704a-f372-4cb0-cea0-a7200381baaf"
      },
      "execution_count": 145,
      "outputs": [
        {
          "output_type": "stream",
          "name": "stdout",
          "text": [
            "game          747\n",
            "fun           358\n",
            "birds         355\n",
            "angry         307\n",
            "play          290\n",
            "             ... \n",
            "powers          1\n",
            "interface       1\n",
            "conquering      1\n",
            "asus            1\n",
            "terrific        1\n",
            "Name: count, Length: 2735, dtype: int64\n"
          ]
        }
      ]
    },
    {
      "cell_type": "code",
      "source": [
        "word_series = pd.Series(all_words)\n",
        "top_words = word_series.value_counts().head(30)"
      ],
      "metadata": {
        "id": "6admkXy121wB"
      },
      "execution_count": 146,
      "outputs": []
    },
    {
      "cell_type": "code",
      "source": [
        "plt.figure(figsize=(12, 6))\n",
        "sns.barplot(x=top_words.values, y=top_words.index, palette='husl')\n",
        "plt.title('Топ-30 самых частых слов')\n",
        "plt.xlabel('Количество слов')\n",
        "plt.ylabel('Слова')\n",
        "plt.tight_layout()\n",
        "plt.show()"
      ],
      "metadata": {
        "colab": {
          "base_uri": "https://localhost:8080/",
          "height": 694
        },
        "id": "ZcrskahZ3OaH",
        "outputId": "687b8430-c1d2-4163-909d-9db085100e2b"
      },
      "execution_count": 147,
      "outputs": [
        {
          "output_type": "stream",
          "name": "stderr",
          "text": [
            "<ipython-input-147-3ecccc261cef>:2: FutureWarning: \n",
            "\n",
            "Passing `palette` without assigning `hue` is deprecated and will be removed in v0.14.0. Assign the `y` variable to `hue` and set `legend=False` for the same effect.\n",
            "\n",
            "  sns.barplot(x=top_words.values, y=top_words.index, palette='husl')\n"
          ]
        },
        {
          "output_type": "display_data",
          "data": {
            "text/plain": [
              "<Figure size 1200x600 with 1 Axes>"
            ],
            "image/png": "[encoded data removed]"
          },
          "metadata": {}
        }
      ]
    },
    {
      "cell_type": "code",
      "source": [
        "X = df['change_text']\n",
        "y = df['Positive']\n",
        "\n",
        "X_train, X_test, y_train, y_test = train_test_split(X, y, test_size=0.2, random_state=42, stratify=y)\n",
        "X_train, X_val, y_train, y_val = train_test_split(X_train, y_train, test_size=0.25, random_state=42, stratify=y_train)\n",
        "\n",
        "print(\"Размеры выборок:\")\n",
        "print(f\"Train: {X_train.shape[0]}, Val: {X_val.shape[0]}, Test: {X_test.shape[0]}\")"
      ],
      "metadata": {
        "colab": {
          "base_uri": "https://localhost:8080/"
        },
        "id": "5taFUfF03osU",
        "outputId": "2eb5f10f-6ea6-4abe-ba37-743f9e45e786"
      },
      "execution_count": 148,
      "outputs": [
        {
          "output_type": "stream",
          "name": "stdout",
          "text": [
            "Размеры выборок:\n",
            "Train: 600, Val: 200, Test: 201\n"
          ]
        }
      ]
    },
    {
      "cell_type": "code",
      "source": [
        "count = df['Positive'].value_counts()"
      ],
      "metadata": {
        "id": "3PuYBFaE4hMp"
      },
      "execution_count": 149,
      "outputs": []
    },
    {
      "cell_type": "code",
      "source": [
        "plt.figure(figsize=(10, 6))\n",
        "df['Positive'].value_counts().plot(kind='bar')\n",
        "plt.title('Распределение категорий')\n",
        "plt.xlabel('Категория отзывов')\n",
        "plt.ylabel('Количество отзывов')\n",
        "plt.xticks(rotation=0)\n",
        "plt.show()"
      ],
      "metadata": {
        "colab": {
          "base_uri": "https://localhost:8080/",
          "height": 564
        },
        "id": "9pUsXzfH8JHk",
        "outputId": "3ef9d8b2-bb96-41ac-e7aa-695126723d7b"
      },
      "execution_count": 150,
      "outputs": [
        {
          "output_type": "display_data",
          "data": {
            "text/plain": [
              "<Figure size 1000x600 with 1 Axes>"
            ],
            "image/png": "[encoded data removed]"
          },
          "metadata": {}
        }
      ]
    }
  ],
  "metadata": {
    "colab": {
      "provenance": [],
      "gpuType": "T4",
      "authorship_tag": "ABX9TyMuEzE8s1aYGyotaKHXc7sC",
      "include_colab_link": true
    },
    "kernelspec": {
      "display_name": "Python 3",
      "name": "python3"
    },
    "language_info": {
      "name": "python"
    },
    "accelerator": "GPU"
  },
  "nbformat": 4,
  "nbformat_minor": 0
}